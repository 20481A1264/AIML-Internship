{
 "cells": [
  {
   "cell_type": "markdown",
   "metadata": {
    "id": "aGfyof3rbp6F"
   },
   "source": [
    "# Image Augmentation"
   ]
  },
  {
   "cell_type": "code",
   "execution_count": 33,
   "metadata": {
    "id": "1zUUlDFMbp6N"
   },
   "outputs": [],
   "source": [
    "from tensorflow.keras.preprocessing.image import ImageDataGenerator"
   ]
  },
  {
   "cell_type": "code",
   "execution_count": 34,
   "metadata": {
    "id": "UF3dUU86bp6Q"
   },
   "outputs": [],
   "source": [
    "train_datagen=ImageDataGenerator(rescale=1/255,zoom_range=0.2,horizontal_flip=True,vertical_flip=False)"
   ]
  },
  {
   "cell_type": "code",
   "execution_count": 35,
   "metadata": {
    "id": "1nYkdirLbp6R"
   },
   "outputs": [],
   "source": [
    "test_datagen=ImageDataGenerator(rescale=1/255)"
   ]
  },
  {
   "cell_type": "code",
   "execution_count": 36,
   "metadata": {
    "id": "oPND-z7nbp6S",
    "outputId": "eefe9dc6-a4a5-42d6-e74c-061306f1c407"
   },
   "outputs": [
    {
     "name": "stdout",
     "output_type": "stream",
     "text": [
      "Found 1495 images belonging to 5 classes.\n"
     ]
    }
   ],
   "source": [
    "x_train=train_datagen.flow_from_directory(r'C:\\Users\\user\\Desktop\\New_Era\\Training\\GEC\\Crop-animal data\\trainset',target_size=(64,64),\n",
    "                                         class_mode='categorical',batch_size=100)"
   ]
  },
  {
   "cell_type": "code",
   "execution_count": 37,
   "metadata": {
    "id": "gK7tkgEmbp6V",
    "outputId": "c17ed282-3208-46e3-cd5a-350184d6826c"
   },
   "outputs": [
    {
     "data": {
      "text/plain": [
       "15"
      ]
     },
     "execution_count": 37,
     "metadata": {},
     "output_type": "execute_result"
    }
   ],
   "source": [
    "len(x_train)"
   ]
  },
  {
   "cell_type": "code",
   "execution_count": 38,
   "metadata": {
    "id": "I94VURZ1bp6W",
    "outputId": "48b7c50a-8372-4620-bc30-ee94490e7e96"
   },
   "outputs": [
    {
     "name": "stdout",
     "output_type": "stream",
     "text": [
      "Found 640 images belonging to 5 classes.\n"
     ]
    }
   ],
   "source": [
    "x_test=test_datagen.flow_from_directory(r'C:\\Users\\user\\Desktop\\New_Era\\Training\\GEC\\Crop-animal data\\testset',target_size=(64,64),\n",
    "                                         class_mode='categorical',batch_size=100)"
   ]
  },
  {
   "cell_type": "code",
   "execution_count": 40,
   "metadata": {},
   "outputs": [
    {
     "data": {
      "text/plain": [
       "7"
      ]
     },
     "execution_count": 40,
     "metadata": {},
     "output_type": "execute_result"
    }
   ],
   "source": [
    "len(x_test)"
   ]
  },
  {
   "cell_type": "code",
   "execution_count": 39,
   "metadata": {
    "id": "x_yh8JYlbp6a",
    "outputId": "d20de402-55ff-46af-86ea-51a0e6906237"
   },
   "outputs": [
    {
     "data": {
      "text/plain": [
       "{'bears': 0, 'crows': 1, 'elephants': 2, 'racoons': 3, 'rats': 4}"
      ]
     },
     "execution_count": 39,
     "metadata": {},
     "output_type": "execute_result"
    }
   ],
   "source": [
    "x_train.class_indices"
   ]
  },
  {
   "cell_type": "markdown",
   "metadata": {
    "id": "FWZMgDmKbp6d"
   },
   "source": [
    "# Import Libraries"
   ]
  },
  {
   "cell_type": "code",
   "execution_count": 18,
   "metadata": {
    "id": "1d-NaLdJbp6e"
   },
   "outputs": [],
   "source": [
    "from tensorflow.keras.models import Sequential\n",
    "from tensorflow.keras.layers import Convolution2D,MaxPooling2D,Flatten,Dense"
   ]
  },
  {
   "cell_type": "markdown",
   "metadata": {
    "id": "rm1VvGIlbp6e"
   },
   "source": [
    "# Create the model"
   ]
  },
  {
   "cell_type": "code",
   "execution_count": 19,
   "metadata": {
    "id": "P18zPH4cbp6f"
   },
   "outputs": [],
   "source": [
    "model=Sequential()"
   ]
  },
  {
   "cell_type": "markdown",
   "metadata": {
    "id": "O5FWEzNubp6f"
   },
   "source": [
    "# Add Layers"
   ]
  },
  {
   "cell_type": "code",
   "execution_count": 20,
   "metadata": {
    "id": "QKNjrY3dbp6g"
   },
   "outputs": [],
   "source": [
    "model.add(Convolution2D(32,(3,3),activation='relu',input_shape=(64,64,3)))"
   ]
  },
  {
   "cell_type": "code",
   "execution_count": 21,
   "metadata": {
    "id": "iMM_NmP9bp6g"
   },
   "outputs": [],
   "source": [
    "model.add(MaxPooling2D(pool_size=(2,2)))"
   ]
  },
  {
   "cell_type": "code",
   "execution_count": 22,
   "metadata": {
    "id": "H0ZxOgJDbp6h"
   },
   "outputs": [],
   "source": [
    "model.add(Flatten())"
   ]
  },
  {
   "cell_type": "code",
   "execution_count": 23,
   "metadata": {
    "id": "SNpyNNJrbp6h"
   },
   "outputs": [],
   "source": [
    "#hidden layer-1\n",
    "model.add(Dense(300,activation='relu'))\n",
    "#hidden layer-2\n",
    "model.add(Dense(150,activation='relu'))"
   ]
  },
  {
   "cell_type": "code",
   "execution_count": 24,
   "metadata": {
    "id": "r8kgI8qUbp6i"
   },
   "outputs": [],
   "source": [
    "#output layer\n",
    "model.add(Dense(5,activation='softmax'))"
   ]
  },
  {
   "cell_type": "markdown",
   "metadata": {
    "id": "Le0rShWLbp6j"
   },
   "source": [
    "# Compile the model"
   ]
  },
  {
   "cell_type": "code",
   "execution_count": 25,
   "metadata": {
    "id": "pcXhzlVwbp6j"
   },
   "outputs": [],
   "source": [
    "model.compile(loss='categorical_crossentropy',optimizer='adam',metrics=['accuracy'])"
   ]
  },
  {
   "cell_type": "markdown",
   "metadata": {
    "id": "XtJ2OkJgbp6k"
   },
   "source": [
    "# Fit the model"
   ]
  },
  {
   "cell_type": "code",
   "execution_count": 26,
   "metadata": {
    "id": "nF3eEdD3bp6k",
    "outputId": "4e87aad2-67cf-46d5-980e-78e2eb3596ad"
   },
   "outputs": [
    {
     "name": "stderr",
     "output_type": "stream",
     "text": [
      "C:\\Users\\user\\AppData\\Local\\Temp\\ipykernel_16184\\234118701.py:1: UserWarning: `Model.fit_generator` is deprecated and will be removed in a future version. Please use `Model.fit`, which supports generators.\n",
      "  model.fit_generator(x_train,steps_per_epoch=len(x_train),epochs=10,validation_data=x_test,validation_steps=len(x_test))\n"
     ]
    },
    {
     "name": "stdout",
     "output_type": "stream",
     "text": [
      "Epoch 1/10\n",
      "15/15 [==============================] - 18s 1s/step - loss: 2.2022 - accuracy: 0.2314 - val_loss: 1.7283 - val_accuracy: 0.1031\n",
      "Epoch 2/10\n",
      "15/15 [==============================] - 16s 1s/step - loss: 1.4849 - accuracy: 0.3217 - val_loss: 1.1241 - val_accuracy: 0.6484\n",
      "Epoch 3/10\n",
      "15/15 [==============================] - 14s 910ms/step - loss: 1.2672 - accuracy: 0.5224 - val_loss: 1.0156 - val_accuracy: 0.6109\n",
      "Epoch 4/10\n",
      "15/15 [==============================] - 15s 972ms/step - loss: 1.0868 - accuracy: 0.5873 - val_loss: 0.9962 - val_accuracy: 0.6062\n",
      "Epoch 5/10\n",
      "15/15 [==============================] - 14s 950ms/step - loss: 0.9667 - accuracy: 0.6247 - val_loss: 0.7140 - val_accuracy: 0.7359\n",
      "Epoch 6/10\n",
      "15/15 [==============================] - 17s 1s/step - loss: 0.8980 - accuracy: 0.6462 - val_loss: 1.0324 - val_accuracy: 0.5813\n",
      "Epoch 7/10\n",
      "15/15 [==============================] - 16s 1s/step - loss: 0.8749 - accuracy: 0.6656 - val_loss: 1.0085 - val_accuracy: 0.5625\n",
      "Epoch 8/10\n",
      "15/15 [==============================] - 14s 936ms/step - loss: 0.8228 - accuracy: 0.6923 - val_loss: 0.6592 - val_accuracy: 0.7453\n",
      "Epoch 9/10\n",
      "15/15 [==============================] - 22s 1s/step - loss: 0.7322 - accuracy: 0.7298 - val_loss: 0.6753 - val_accuracy: 0.7531\n",
      "Epoch 10/10\n",
      "15/15 [==============================] - 20s 1s/step - loss: 0.6845 - accuracy: 0.7525 - val_loss: 0.5964 - val_accuracy: 0.7781\n"
     ]
    },
    {
     "data": {
      "text/plain": [
       "<keras.callbacks.History at 0x1e0b26fce50>"
      ]
     },
     "execution_count": 26,
     "metadata": {},
     "output_type": "execute_result"
    }
   ],
   "source": [
    "model.fit_generator(x_train,steps_per_epoch=len(x_train),epochs=10,validation_data=x_test,validation_steps=len(x_test))"
   ]
  },
  {
   "cell_type": "markdown",
   "metadata": {
    "id": "QhofX4RObp6l"
   },
   "source": [
    "# Save the Model"
   ]
  },
  {
   "cell_type": "code",
   "execution_count": 27,
   "metadata": {
    "id": "ZIpo_ro3bp6l"
   },
   "outputs": [],
   "source": [
    "model.save('animal.h5')"
   ]
  },
  {
   "cell_type": "markdown",
   "metadata": {
    "id": "l_byucwObp6l"
   },
   "source": [
    "# Refer Notebook"
   ]
  },
  {
   "cell_type": "raw",
   "metadata": {
    "id": "lLkd_Vowbp6l"
   },
   "source": [
    "Day 8 - (Module 6- Test the CNN Model Part2)"
   ]
  }
 ],
 "metadata": {
  "colab": {
   "provenance": []
  },
  "kernelspec": {
   "display_name": "Python 3 (ipykernel)",
   "language": "python",
   "name": "python3"
  },
  "language_info": {
   "codemirror_mode": {
    "name": "ipython",
    "version": 3
   },
   "file_extension": ".py",
   "mimetype": "text/x-python",
   "name": "python",
   "nbconvert_exporter": "python",
   "pygments_lexer": "ipython3",
   "version": "3.9.13"
  }
 },
 "nbformat": 4,
 "nbformat_minor": 1
}
