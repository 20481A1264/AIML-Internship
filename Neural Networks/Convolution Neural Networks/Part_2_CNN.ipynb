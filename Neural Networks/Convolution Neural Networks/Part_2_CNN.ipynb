{
 "cells": [
  {
   "cell_type": "markdown",
   "metadata": {
    "id": "Wey6UkOZmsAt"
   },
   "source": [
    "# Testing the CNN Model"
   ]
  },
  {
   "cell_type": "code",
   "execution_count": 2,
   "metadata": {
    "id": "wsTmjfM1msAw"
   },
   "outputs": [],
   "source": [
    "import numpy as np\n",
    "from tensorflow.keras.models import load_model\n",
    "from tensorflow.keras.preprocessing import image"
   ]
  },
  {
   "cell_type": "code",
   "execution_count": 3,
   "metadata": {
    "id": "_M32D3AzmsAx"
   },
   "outputs": [],
   "source": [
    "model=load_model('animal.h5')\n",
    "img=image.load_img(r'C:\\Users\\user\\Desktop\\New_Era\\Training\\GEC\\Crop-animal data\\testset\\elephants\\africa_1170112__340.jpg',target_size=(64,64))"
   ]
  },
  {
   "cell_type": "code",
   "execution_count": 4,
   "metadata": {
    "id": "AvarU3JNmsAy",
    "outputId": "03a931e7-27cb-4d57-9086-d060e710650d"
   },
   "outputs": [
    {
     "data": {
      "image/png": "[encoded data removed]",
      "text/plain": [
       "<PIL.Image.Image image mode=RGB size=64x64>"
      ]
     },
     "execution_count": 4,
     "metadata": {},
     "output_type": "execute_result"
    }
   ],
   "source": [
    "img"
   ]
  },
  {
   "cell_type": "code",
   "execution_count": 5,
   "metadata": {
    "id": "cfWK29bHmsAy"
   },
   "outputs": [],
   "source": [
    "x=image.img_to_array(img)"
   ]
  },
  {
   "cell_type": "code",
   "execution_count": 6,
   "metadata": {
    "collapsed": true,
    "id": "WVSJzuZpmsAz",
    "outputId": "61eb18e5-5b88-4b91-8162-37ce49157855"
   },
   "outputs": [
    {
     "data": {
      "text/plain": [
       "array([[[212., 215., 230.],\n",
       "        [210., 213., 228.],\n",
       "        [211., 214., 229.],\n",
       "        ...,\n",
       "        [212., 215., 230.],\n",
       "        [212., 216., 228.],\n",
       "        [213., 217., 229.]],\n",
       "\n",
       "       [[212., 215., 230.],\n",
       "        [211., 214., 229.],\n",
       "        [211., 214., 229.],\n",
       "        ...,\n",
       "        [212., 215., 230.],\n",
       "        [212., 216., 228.],\n",
       "        [212., 216., 228.]],\n",
       "\n",
       "       [[211., 214., 229.],\n",
       "        [211., 214., 229.],\n",
       "        [211., 214., 229.],\n",
       "        ...,\n",
       "        [212., 216., 228.],\n",
       "        [212., 215., 230.],\n",
       "        [212., 215., 230.]],\n",
       "\n",
       "       ...,\n",
       "\n",
       "       [[ 85.,  58.,  39.],\n",
       "        [230., 202., 180.],\n",
       "        [141., 120.,  91.],\n",
       "        ...,\n",
       "        [205., 196., 187.],\n",
       "        [240., 221., 206.],\n",
       "        [211., 184., 163.]],\n",
       "\n",
       "       [[181., 145., 111.],\n",
       "        [131., 112.,  95.],\n",
       "        [ 72.,  57.,  34.],\n",
       "        ...,\n",
       "        [125., 112., 104.],\n",
       "        [218., 204., 193.],\n",
       "        [227., 200., 179.]],\n",
       "\n",
       "       [[111.,  60.,   0.],\n",
       "        [131., 111., 102.],\n",
       "        [153., 129., 103.],\n",
       "        ...,\n",
       "        [109.,  87.,  73.],\n",
       "        [178., 165., 157.],\n",
       "        [202., 182., 171.]]], dtype=float32)"
      ]
     },
     "execution_count": 6,
     "metadata": {},
     "output_type": "execute_result"
    }
   ],
   "source": [
    "x"
   ]
  },
  {
   "cell_type": "code",
   "execution_count": 7,
   "metadata": {
    "id": "X-wnZhUamsAz",
    "outputId": "cb0d8463-9673-48b0-b89b-9691155f1008"
   },
   "outputs": [
    {
     "data": {
      "text/plain": [
       "3"
      ]
     },
     "execution_count": 7,
     "metadata": {},
     "output_type": "execute_result"
    }
   ],
   "source": [
    "x.ndim"
   ]
  },
  {
   "cell_type": "code",
   "execution_count": 8,
   "metadata": {
    "id": "Ng4UVVpOmsA0"
   },
   "outputs": [],
   "source": [
    "x=np.expand_dims(x,axis=0)"
   ]
  },
  {
   "cell_type": "code",
   "execution_count": 9,
   "metadata": {
    "collapsed": true,
    "id": "iLi5ANJnmsA0",
    "outputId": "a9c98932-3ef3-4fcc-abbe-94777f018fe3"
   },
   "outputs": [
    {
     "data": {
      "text/plain": [
       "array([[[[212., 215., 230.],\n",
       "         [210., 213., 228.],\n",
       "         [211., 214., 229.],\n",
       "         ...,\n",
       "         [212., 215., 230.],\n",
       "         [212., 216., 228.],\n",
       "         [213., 217., 229.]],\n",
       "\n",
       "        [[212., 215., 230.],\n",
       "         [211., 214., 229.],\n",
       "         [211., 214., 229.],\n",
       "         ...,\n",
       "         [212., 215., 230.],\n",
       "         [212., 216., 228.],\n",
       "         [212., 216., 228.]],\n",
       "\n",
       "        [[211., 214., 229.],\n",
       "         [211., 214., 229.],\n",
       "         [211., 214., 229.],\n",
       "         ...,\n",
       "         [212., 216., 228.],\n",
       "         [212., 215., 230.],\n",
       "         [212., 215., 230.]],\n",
       "\n",
       "        ...,\n",
       "\n",
       "        [[ 85.,  58.,  39.],\n",
       "         [230., 202., 180.],\n",
       "         [141., 120.,  91.],\n",
       "         ...,\n",
       "         [205., 196., 187.],\n",
       "         [240., 221., 206.],\n",
       "         [211., 184., 163.]],\n",
       "\n",
       "        [[181., 145., 111.],\n",
       "         [131., 112.,  95.],\n",
       "         [ 72.,  57.,  34.],\n",
       "         ...,\n",
       "         [125., 112., 104.],\n",
       "         [218., 204., 193.],\n",
       "         [227., 200., 179.]],\n",
       "\n",
       "        [[111.,  60.,   0.],\n",
       "         [131., 111., 102.],\n",
       "         [153., 129., 103.],\n",
       "         ...,\n",
       "         [109.,  87.,  73.],\n",
       "         [178., 165., 157.],\n",
       "         [202., 182., 171.]]]], dtype=float32)"
      ]
     },
     "execution_count": 9,
     "metadata": {},
     "output_type": "execute_result"
    }
   ],
   "source": [
    "x"
   ]
  },
  {
   "cell_type": "code",
   "execution_count": 10,
   "metadata": {
    "id": "TTcyA0GSmsA1",
    "outputId": "e236c456-f847-4927-b8a5-6adf369ba1ca"
   },
   "outputs": [
    {
     "data": {
      "text/plain": [
       "4"
      ]
     },
     "execution_count": 10,
     "metadata": {},
     "output_type": "execute_result"
    }
   ],
   "source": [
    "x.ndim"
   ]
  },
  {
   "cell_type": "code",
   "execution_count": 11,
   "metadata": {
    "id": "MhFlIQlWmsA1",
    "outputId": "dd238bf0-0b64-4c21-b1ed-2bec0dbebf45"
   },
   "outputs": [
    {
     "name": "stdout",
     "output_type": "stream",
     "text": [
      "1/1 [==============================] - 0s 202ms/step\n"
     ]
    }
   ],
   "source": [
    "pred=model.predict(x)"
   ]
  },
  {
   "cell_type": "code",
   "execution_count": 12,
   "metadata": {
    "id": "-deDIzW6msA1"
   },
   "outputs": [],
   "source": [
    "#pred=np.argmax(model.predict(x),axis=1)"
   ]
  },
  {
   "cell_type": "code",
   "execution_count": 12,
   "metadata": {
    "id": "JdaoYjnCmsA2",
    "outputId": "b0d21b65-dd20-41c4-b60f-d5b878d59d9e"
   },
   "outputs": [
    {
     "data": {
      "text/plain": [
       "array([[0., 0., 1., 0., 0.]], dtype=float32)"
      ]
     },
     "execution_count": 12,
     "metadata": {},
     "output_type": "execute_result"
    }
   ],
   "source": [
    "pred"
   ]
  },
  {
   "cell_type": "code",
   "execution_count": 20,
   "metadata": {
    "id": "5YAdygx9msA2",
    "outputId": "0b174d21-ddbe-46e1-ceb2-6f8759638bce"
   },
   "outputs": [
    {
     "name": "stdout",
     "output_type": "stream",
     "text": [
      "elephants\n"
     ]
    }
   ],
   "source": [
    "index = ['bears','crows','elephants','racoons','rats']\n",
    "arr = pred\n",
    "\n",
    "# Get the index of the non-zero element\n",
    "idx = np.where(arr == 1)[1][0]\n",
    "\n",
    "# Get the corresponding index value from the list\n",
    "print(index[idx])"
   ]
  },
  {
   "cell_type": "markdown",
   "metadata": {
    "id": "k12sDuaDmsA2"
   },
   "source": [
    "# Open-CV"
   ]
  },
  {
   "cell_type": "raw",
   "metadata": {
    "id": "_JjN-pRUmsA2"
   },
   "source": [
    "!pip install opencv-python"
   ]
  },
  {
   "cell_type": "code",
   "execution_count": 13,
   "metadata": {},
   "outputs": [
    {
     "name": "stdout",
     "output_type": "stream",
     "text": [
      "Requirement already satisfied: opencv-python in c:\\users\\user\\anaconda3\\lib\\site-packages (4.7.0.72)\n",
      "Requirement already satisfied: numpy>=1.19.3 in c:\\users\\user\\anaconda3\\lib\\site-packages (from opencv-python) (1.21.5)\n"
     ]
    }
   ],
   "source": [
    "!pip install opencv-python"
   ]
  },
  {
   "cell_type": "code",
   "execution_count": 1,
   "metadata": {
    "id": "F_Z4nVd9msA2"
   },
   "outputs": [],
   "source": [
    "import cv2"
   ]
  },
  {
   "cell_type": "code",
   "execution_count": 2,
   "metadata": {
    "id": "XI6HJ552msA3"
   },
   "outputs": [],
   "source": [
    "img=cv2.imread(r'C:\\Users\\user\\Desktop\\New_Era\\Training\\GEC\\Crop-animal data\\testset\\elephants\\africa_1170112__340.jpg',1)"
   ]
  },
  {
   "cell_type": "code",
   "execution_count": 3,
   "metadata": {
    "id": "K3ArKw9VmsA3"
   },
   "outputs": [
    {
     "data": {
      "text/plain": [
       "array([[[229, 214, 211],\n",
       "        [229, 214, 211],\n",
       "        [229, 214, 211],\n",
       "        ...,\n",
       "        [229, 217, 213],\n",
       "        [229, 217, 213],\n",
       "        [229, 217, 213]],\n",
       "\n",
       "       [[229, 214, 211],\n",
       "        [229, 214, 211],\n",
       "        [229, 214, 211],\n",
       "        ...,\n",
       "        [229, 217, 213],\n",
       "        [229, 217, 213],\n",
       "        [229, 217, 213]],\n",
       "\n",
       "       [[229, 214, 211],\n",
       "        [229, 214, 211],\n",
       "        [229, 214, 211],\n",
       "        ...,\n",
       "        [229, 217, 213],\n",
       "        [229, 217, 213],\n",
       "        [229, 217, 213]],\n",
       "\n",
       "       ...,\n",
       "\n",
       "       [[ 32,  48,  84],\n",
       "        [ 33,  60,  97],\n",
       "        [ 39,  87, 129],\n",
       "        ...,\n",
       "        [174, 188, 210],\n",
       "        [184, 201, 222],\n",
       "        [173, 192, 213]],\n",
       "\n",
       "       [[ 93, 105, 139],\n",
       "        [ 69,  91, 127],\n",
       "        [ 49,  88, 132],\n",
       "        ...,\n",
       "        [168, 183, 202],\n",
       "        [170, 187, 208],\n",
       "        [155, 172, 193]],\n",
       "\n",
       "       [[188, 199, 231],\n",
       "        [151, 171, 206],\n",
       "        [ 79, 114, 158],\n",
       "        ...,\n",
       "        [160, 175, 194],\n",
       "        [153, 170, 191],\n",
       "        [132, 149, 170]]], dtype=uint8)"
      ]
     },
     "execution_count": 3,
     "metadata": {},
     "output_type": "execute_result"
    }
   ],
   "source": [
    "img"
   ]
  },
  {
   "cell_type": "code",
   "execution_count": 4,
   "metadata": {
    "id": "zCidumbLmsA3"
   },
   "outputs": [],
   "source": [
    "img1=cv2.imread(r'C:\\Users\\user\\Desktop\\New_Era\\Training\\GEC\\Crop-animal data\\testset\\elephants\\africa_1170112__340.jpg',0)"
   ]
  },
  {
   "cell_type": "code",
   "execution_count": 5,
   "metadata": {
    "id": "TWdMW2temsA3"
   },
   "outputs": [
    {
     "data": {
      "text/plain": [
       "array([[215, 215, 215, ..., 217, 217, 217],\n",
       "       [215, 215, 215, ..., 217, 217, 217],\n",
       "       [215, 215, 215, ..., 217, 217, 217],\n",
       "       ...,\n",
       "       [ 57,  68,  94, ..., 193, 205, 196],\n",
       "       [114,  99,  97, ..., 187, 191, 176],\n",
       "       [207, 179, 123, ..., 179, 174, 153]], dtype=uint8)"
      ]
     },
     "execution_count": 5,
     "metadata": {},
     "output_type": "execute_result"
    }
   ],
   "source": [
    "img1"
   ]
  },
  {
   "cell_type": "code",
   "execution_count": 6,
   "metadata": {
    "id": "7UfxQOphmsA3"
   },
   "outputs": [
    {
     "name": "stdout",
     "output_type": "stream",
     "text": [
      "(340, 604, 3)\n"
     ]
    }
   ],
   "source": [
    "print(img.shape)"
   ]
  },
  {
   "cell_type": "code",
   "execution_count": 12,
   "metadata": {
    "id": "kC2j5UgRmsA3"
   },
   "outputs": [],
   "source": [
    "img=cv2.imread(r'C:\\Users\\user\\Desktop\\New_Era\\Training\\GEC\\Crop-animal data\\testset\\elephants\\africa_1170112__340.jpg',1)\n",
    "cv2.imshow('image',img)\n",
    "cv2.waitKey(0)\n",
    "cv2.destroyAllWindows()"
   ]
  },
  {
   "cell_type": "code",
   "execution_count": 10,
   "metadata": {},
   "outputs": [],
   "source": []
  },
  {
   "cell_type": "markdown",
   "metadata": {
    "id": "oNkm6po3msA4"
   },
   "source": [
    "# CNN Video Analysis "
   ]
  },
  {
   "cell_type": "code",
   "execution_count": 13,
   "metadata": {
    "colab": {
     "base_uri": "https://localhost:8080/",
     "height": 380
    },
    "id": "eXBL-Xk-msA4",
    "outputId": "22ae910d-c557-44be-8cea-a4f1dd2e2a18"
   },
   "outputs": [
    {
     "name": "stdout",
     "output_type": "stream",
     "text": [
      "1/1 [==============================] - 0s 168ms/step\n",
      "1/1 [==============================] - 0s 45ms/step\n",
      "1/1 [==============================] - 0s 35ms/step\n",
      "1/1 [==============================] - 0s 41ms/step\n",
      "1/1 [==============================] - 0s 39ms/step\n",
      "1/1 [==============================] - 0s 36ms/step\n",
      "1/1 [==============================] - 0s 41ms/step\n",
      "1/1 [==============================] - 0s 38ms/step\n",
      "1/1 [==============================] - 0s 37ms/step\n",
      "1/1 [==============================] - 0s 45ms/step\n",
      "1/1 [==============================] - 0s 42ms/step\n",
      "1/1 [==============================] - 0s 38ms/step\n",
      "1/1 [==============================] - 0s 49ms/step\n",
      "1/1 [==============================] - 0s 43ms/step\n",
      "1/1 [==============================] - 0s 38ms/step\n",
      "1/1 [==============================] - 0s 53ms/step\n",
      "1/1 [==============================] - 0s 41ms/step\n",
      "1/1 [==============================] - 0s 47ms/step\n",
      "1/1 [==============================] - 0s 36ms/step\n",
      "1/1 [==============================] - 0s 41ms/step\n",
      "1/1 [==============================] - 0s 36ms/step\n",
      "1/1 [==============================] - 0s 38ms/step\n",
      "1/1 [==============================] - 0s 57ms/step\n",
      "1/1 [==============================] - 0s 39ms/step\n",
      "1/1 [==============================] - 0s 35ms/step\n",
      "1/1 [==============================] - 0s 43ms/step\n",
      "1/1 [==============================] - 0s 40ms/step\n",
      "1/1 [==============================] - 0s 45ms/step\n",
      "1/1 [==============================] - 0s 44ms/step\n",
      "1/1 [==============================] - 0s 41ms/step\n",
      "1/1 [==============================] - 0s 42ms/step\n",
      "1/1 [==============================] - 0s 41ms/step\n",
      "1/1 [==============================] - 0s 41ms/step\n",
      "1/1 [==============================] - 0s 45ms/step\n",
      "1/1 [==============================] - 0s 46ms/step\n",
      "1/1 [==============================] - 0s 36ms/step\n",
      "1/1 [==============================] - 0s 49ms/step\n",
      "1/1 [==============================] - 0s 44ms/step\n",
      "1/1 [==============================] - 0s 38ms/step\n",
      "1/1 [==============================] - 0s 37ms/step\n",
      "1/1 [==============================] - 0s 40ms/step\n",
      "1/1 [==============================] - 0s 40ms/step\n",
      "1/1 [==============================] - 0s 42ms/step\n",
      "1/1 [==============================] - 0s 37ms/step\n",
      "1/1 [==============================] - 0s 37ms/step\n",
      "1/1 [==============================] - 0s 37ms/step\n",
      "1/1 [==============================] - 0s 33ms/step\n",
      "1/1 [==============================] - 0s 48ms/step\n",
      "1/1 [==============================] - 0s 45ms/step\n",
      "1/1 [==============================] - 0s 45ms/step\n",
      "1/1 [==============================] - 0s 43ms/step\n",
      "1/1 [==============================] - 0s 47ms/step\n",
      "1/1 [==============================] - 0s 53ms/step\n",
      "1/1 [==============================] - 0s 50ms/step\n",
      "1/1 [==============================] - 0s 47ms/step\n",
      "1/1 [==============================] - 0s 50ms/step\n",
      "1/1 [==============================] - 0s 39ms/step\n",
      "1/1 [==============================] - 0s 46ms/step\n",
      "1/1 [==============================] - 0s 43ms/step\n",
      "1/1 [==============================] - 0s 45ms/step\n",
      "1/1 [==============================] - 0s 42ms/step\n",
      "1/1 [==============================] - 0s 45ms/step\n",
      "1/1 [==============================] - 0s 40ms/step\n",
      "1/1 [==============================] - 0s 47ms/step\n",
      "1/1 [==============================] - 0s 57ms/step\n",
      "1/1 [==============================] - 0s 34ms/step\n",
      "1/1 [==============================] - 0s 47ms/step\n",
      "1/1 [==============================] - 0s 44ms/step\n",
      "1/1 [==============================] - 0s 34ms/step\n",
      "1/1 [==============================] - 0s 40ms/step\n",
      "1/1 [==============================] - 0s 39ms/step\n",
      "1/1 [==============================] - 0s 42ms/step\n",
      "1/1 [==============================] - 0s 37ms/step\n",
      "1/1 [==============================] - 0s 49ms/step\n",
      "1/1 [==============================] - 0s 45ms/step\n",
      "1/1 [==============================] - 0s 41ms/step\n",
      "1/1 [==============================] - 0s 40ms/step\n",
      "1/1 [==============================] - 0s 35ms/step\n",
      "1/1 [==============================] - 0s 38ms/step\n",
      "1/1 [==============================] - 0s 41ms/step\n",
      "1/1 [==============================] - 0s 41ms/step\n",
      "1/1 [==============================] - 0s 46ms/step\n",
      "1/1 [==============================] - 0s 45ms/step\n",
      "1/1 [==============================] - 0s 46ms/step\n",
      "1/1 [==============================] - 0s 43ms/step\n",
      "1/1 [==============================] - 0s 52ms/step\n",
      "1/1 [==============================] - 0s 49ms/step\n",
      "1/1 [==============================] - 0s 42ms/step\n",
      "1/1 [==============================] - 0s 44ms/step\n",
      "1/1 [==============================] - 0s 41ms/step\n",
      "1/1 [==============================] - 0s 47ms/step\n",
      "1/1 [==============================] - 0s 50ms/step\n"
     ]
    },
    {
     "ename": "IndexError",
     "evalue": "index 0 is out of bounds for axis 0 with size 0",
     "output_type": "error",
     "traceback": [
      "\u001b[1;31m---------------------------------------------------------------------------\u001b[0m",
      "\u001b[1;31mIndexError\u001b[0m                                Traceback (most recent call last)",
      "\u001b[1;32m~\\AppData\\Local\\Temp\\ipykernel_2532\\4153755317.py\u001b[0m in \u001b[0;36m<module>\u001b[1;34m\u001b[0m\n\u001b[0;32m     24\u001b[0m     \u001b[0mpred\u001b[0m\u001b[1;33m=\u001b[0m\u001b[0mmodel\u001b[0m\u001b[1;33m.\u001b[0m\u001b[0mpredict\u001b[0m\u001b[1;33m(\u001b[0m\u001b[0mx\u001b[0m\u001b[1;33m)\u001b[0m\u001b[1;33m\u001b[0m\u001b[1;33m\u001b[0m\u001b[0m\n\u001b[0;32m     25\u001b[0m \u001b[1;33m\u001b[0m\u001b[0m\n\u001b[1;32m---> 26\u001b[1;33m     \u001b[0mcv2\u001b[0m\u001b[1;33m.\u001b[0m\u001b[0mputText\u001b[0m\u001b[1;33m(\u001b[0m\u001b[0mframe\u001b[0m\u001b[1;33m,\u001b[0m\u001b[1;34m'The Predicted Animal is: '\u001b[0m\u001b[1;33m+\u001b[0m\u001b[0mstr\u001b[0m\u001b[1;33m(\u001b[0m\u001b[0mindex\u001b[0m\u001b[1;33m[\u001b[0m\u001b[0mnp\u001b[0m\u001b[1;33m.\u001b[0m\u001b[0mwhere\u001b[0m\u001b[1;33m(\u001b[0m\u001b[0mpred\u001b[0m \u001b[1;33m==\u001b[0m \u001b[1;36m1\u001b[0m\u001b[1;33m)\u001b[0m\u001b[1;33m[\u001b[0m\u001b[1;36m1\u001b[0m\u001b[1;33m]\u001b[0m\u001b[1;33m[\u001b[0m\u001b[1;36m0\u001b[0m\u001b[1;33m]\u001b[0m\u001b[1;33m]\u001b[0m\u001b[1;33m)\u001b[0m\u001b[1;33m,\u001b[0m\u001b[1;33m(\u001b[0m\u001b[1;36m100\u001b[0m\u001b[1;33m,\u001b[0m\u001b[1;36m100\u001b[0m\u001b[1;33m)\u001b[0m\u001b[1;33m,\u001b[0m\u001b[0mcv2\u001b[0m\u001b[1;33m.\u001b[0m\u001b[0mFONT_HERSHEY_SIMPLEX\u001b[0m\u001b[1;33m,\u001b[0m\u001b[1;36m1\u001b[0m\u001b[1;33m,\u001b[0m\u001b[1;33m(\u001b[0m\u001b[1;36m0\u001b[0m\u001b[1;33m,\u001b[0m\u001b[1;36m0\u001b[0m\u001b[1;33m,\u001b[0m\u001b[1;36m0\u001b[0m\u001b[1;33m)\u001b[0m\u001b[1;33m,\u001b[0m\u001b[1;36m4\u001b[0m\u001b[1;33m)\u001b[0m\u001b[1;33m\u001b[0m\u001b[1;33m\u001b[0m\u001b[0m\n\u001b[0m\u001b[0;32m     27\u001b[0m \u001b[1;33m\u001b[0m\u001b[0m\n\u001b[0;32m     28\u001b[0m     \u001b[0mcv2\u001b[0m\u001b[1;33m.\u001b[0m\u001b[0mimshow\u001b[0m\u001b[1;33m(\u001b[0m\u001b[1;34m'image'\u001b[0m\u001b[1;33m,\u001b[0m\u001b[0mframe\u001b[0m\u001b[1;33m)\u001b[0m\u001b[1;33m\u001b[0m\u001b[1;33m\u001b[0m\u001b[0m\n",
      "\u001b[1;31mIndexError\u001b[0m: index 0 is out of bounds for axis 0 with size 0"
     ]
    }
   ],
   "source": [
    "import cv2\n",
    "import numpy as np\n",
    "from tensorflow.keras.models import load_model\n",
    "from tensorflow.keras.preprocessing import image\n",
    "\n",
    "\n",
    "\n",
    "model=load_model('animal.h5')\n",
    "\n",
    "\n",
    "\n",
    "video=cv2.VideoCapture(0)\n",
    "\n",
    "index = ['bears','crows','elephants','racoons','rats']\n",
    "\n",
    "while 1:\n",
    "    succes,frame=video.read() \n",
    "    cv2.imwrite('image.jpg',frame)\n",
    "    img=image.load_img('image.jpg',target_size=(64,64))  \n",
    "    \n",
    "    x=image.img_to_array(img)\n",
    "    x=np.expand_dims(x,axis=0)\n",
    "    \n",
    "    pred=model.predict(x)\n",
    "    \n",
    "    cv2.putText(frame,'The Predicted Animal is: '+str(index[np.where(pred == 1)[1][0]]),(100,100),cv2.FONT_HERSHEY_SIMPLEX,1,(0,0,0),4)\n",
    "    \n",
    "    cv2.imshow('image',frame)\n",
    "    if cv2.waitKey(1) & 0xFF == ord('q'):\n",
    "        break\n",
    "video.release()\n",
    "cv2.destroyAllWindows()"
   ]
  },
  {
   "cell_type": "code",
   "execution_count": null,
   "metadata": {},
   "outputs": [],
   "source": []
  }
 ],
 "metadata": {
  "colab": {
   "provenance": []
  },
  "kernelspec": {
   "display_name": "Python 3 (ipykernel)",
   "language": "python",
   "name": "python3"
  },
  "language_info": {
   "codemirror_mode": {
    "name": "ipython",
    "version": 3
   },
   "file_extension": ".py",
   "mimetype": "text/x-python",
   "name": "python",
   "nbconvert_exporter": "python",
   "pygments_lexer": "ipython3",
   "version": "3.9.13"
  }
 },
 "nbformat": 4,
 "nbformat_minor": 1
}
