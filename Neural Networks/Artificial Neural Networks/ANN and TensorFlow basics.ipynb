{
  "cells": [
    {
      "cell_type": "markdown",
      "metadata": {
        "id": "DHn4dWEiCZVZ"
      },
      "source": [
        "# Import Libraries"
      ]
    },
    {
      "cell_type": "code",
      "execution_count": null,
      "metadata": {
        "id": "7brIiHqnCZVh"
      },
      "outputs": [],
      "source": [
        "import numpy as np\n",
        "import pandas as pd"
      ]
    },
    {
      "cell_type": "markdown",
      "source": [
        "https://drive.google.com/file/d/11bXsk8hiDlU9_9j1BKcnPE3U8OdDcKsA/view?usp=share_link"
      ],
      "metadata": {
        "id": "Z_hbFW3N_ISE"
      }
    },
    {
      "cell_type": "markdown",
      "metadata": {
        "id": "p4NgejBbCZVm"
      },
      "source": [
        "# Download the dataset"
      ]
    },
    {
      "cell_type": "code",
      "execution_count": null,
      "metadata": {
        "id": "6jV0gDG4CZVo"
      },
      "outputs": [],
      "source": [
        "dataset = pd.read_csv(\"/content/drive/MyDrive/Applied Data Science/Datasets and Notebooks/Datasets/50_Startups.csv\")"
      ]
    },
    {
      "cell_type": "code",
      "source": [
        "from google.colab import drive\n",
        "drive.mount('/content/drive')"
      ],
      "metadata": {
        "id": "NKMjpWKJzz83",
        "outputId": "3bea2ce5-6f5c-4e5e-8293-7e6f8f3a446b",
        "colab": {
          "base_uri": "https://localhost:8080/"
        }
      },
      "execution_count": null,
      "outputs": [
        {
          "output_type": "stream",
          "name": "stdout",
          "text": [
            "Drive already mounted at /content/drive; to attempt to forcibly remount, call drive.mount(\"/content/drive\", force_remount=True).\n"
          ]
        }
      ]
    },
    {
      "cell_type": "code",
      "execution_count": null,
      "metadata": {
        "id": "mrpxDAvXCZVp",
        "outputId": "2f404e39-cd06-4542-cfee-0d77250472eb",
        "colab": {
          "base_uri": "https://localhost:8080/",
          "height": 206
        }
      },
      "outputs": [
        {
          "output_type": "execute_result",
          "data": {
            "text/plain": [
              "   R&D Spend  Administration  Marketing Spend       State     Profit\n",
              "0  165349.20       136897.80        471784.10    New York  192261.83\n",
              "1  162597.70       151377.59        443898.53  California  191792.06\n",
              "2  153441.51       101145.55        407934.54     Florida  191050.39\n",
              "3  144372.41       118671.85        383199.62    New York  182901.99\n",
              "4  142107.34        91391.77        366168.42     Florida  166187.94"
            ],
            "text/html": [
              "\n",
              "  <div id=\"df-55e95b0d-fa3d-4b94-995b-f2fcf90d1986\">\n",
              "    <div class=\"colab-df-container\">\n",
              "      <div>\n",
              "<style scoped>\n",
              "    .dataframe tbody tr th:only-of-type {\n",
              "        vertical-align: middle;\n",
              "    }\n",
              "\n",
              "    .dataframe tbody tr th {\n",
              "        vertical-align: top;\n",
              "    }\n",
              "\n",
              "    .dataframe thead th {\n",
              "        text-align: right;\n",
              "    }\n",
              "</style>\n",
              "<table border=\"1\" class=\"dataframe\">\n",
              "  <thead>\n",
              "    <tr style=\"text-align: right;\">\n",
              "      <th></th>\n",
              "      <th>R&amp;D Spend</th>\n",
              "      <th>Administration</th>\n",
              "      <th>Marketing Spend</th>\n",
              "      <th>State</th>\n",
              "      <th>Profit</th>\n",
              "    </tr>\n",
              "  </thead>\n",
              "  <tbody>\n",
              "    <tr>\n",
              "      <th>0</th>\n",
              "      <td>165349.20</td>\n",
              "      <td>136897.80</td>\n",
              "      <td>471784.10</td>\n",
              "      <td>New York</td>\n",
              "      <td>192261.83</td>\n",
              "    </tr>\n",
              "    <tr>\n",
              "      <th>1</th>\n",
              "      <td>162597.70</td>\n",
              "      <td>151377.59</td>\n",
              "      <td>443898.53</td>\n",
              "      <td>California</td>\n",
              "      <td>191792.06</td>\n",
              "    </tr>\n",
              "    <tr>\n",
              "      <th>2</th>\n",
              "      <td>153441.51</td>\n",
              "      <td>101145.55</td>\n",
              "      <td>407934.54</td>\n",
              "      <td>Florida</td>\n",
              "      <td>191050.39</td>\n",
              "    </tr>\n",
              "    <tr>\n",
              "      <th>3</th>\n",
              "      <td>144372.41</td>\n",
              "      <td>118671.85</td>\n",
              "      <td>383199.62</td>\n",
              "      <td>New York</td>\n",
              "      <td>182901.99</td>\n",
              "    </tr>\n",
              "    <tr>\n",
              "      <th>4</th>\n",
              "      <td>142107.34</td>\n",
              "      <td>91391.77</td>\n",
              "      <td>366168.42</td>\n",
              "      <td>Florida</td>\n",
              "      <td>166187.94</td>\n",
              "    </tr>\n",
              "  </tbody>\n",
              "</table>\n",
              "</div>\n",
              "      <button class=\"colab-df-convert\" onclick=\"convertToInteractive('df-55e95b0d-fa3d-4b94-995b-f2fcf90d1986')\"\n",
              "              title=\"Convert this dataframe to an interactive table.\"\n",
              "              style=\"display:none;\">\n",
              "        \n",
              "  <svg xmlns=\"http://www.w3.org/2000/svg\" height=\"24px\"viewBox=\"0 0 24 24\"\n",
              "       width=\"24px\">\n",
              "    <path d=\"M0 0h24v24H0V0z\" fill=\"none\"/>\n",
              "    <path d=\"M18.56 5.44l.94 2.06.94-2.06 2.06-.94-2.06-.94-.94-2.06-.94 2.06-2.06.94zm-11 1L8.5 8.5l.94-2.06 2.06-.94-2.06-.94L8.5 2.5l-.94 2.06-2.06.94zm10 10l.94 2.06.94-2.06 2.06-.94-2.06-.94-.94-2.06-.94 2.06-2.06.94z\"/><path d=\"M17.41 7.96l-1.37-1.37c-.4-.4-.92-.59-1.43-.59-.52 0-1.04.2-1.43.59L10.3 9.45l-7.72 7.72c-.78.78-.78 2.05 0 2.83L4 21.41c.39.39.9.59 1.41.59.51 0 1.02-.2 1.41-.59l7.78-7.78 2.81-2.81c.8-.78.8-2.07 0-2.86zM5.41 20L4 18.59l7.72-7.72 1.47 1.35L5.41 20z\"/>\n",
              "  </svg>\n",
              "      </button>\n",
              "      \n",
              "  <style>\n",
              "    .colab-df-container {\n",
              "      display:flex;\n",
              "      flex-wrap:wrap;\n",
              "      gap: 12px;\n",
              "    }\n",
              "\n",
              "    .colab-df-convert {\n",
              "      background-color: #E8F0FE;\n",
              "      border: none;\n",
              "      border-radius: 50%;\n",
              "      cursor: pointer;\n",
              "      display: none;\n",
              "      fill: #1967D2;\n",
              "      height: 32px;\n",
              "      padding: 0 0 0 0;\n",
              "      width: 32px;\n",
              "    }\n",
              "\n",
              "    .colab-df-convert:hover {\n",
              "      background-color: #E2EBFA;\n",
              "      box-shadow: 0px 1px 2px rgba(60, 64, 67, 0.3), 0px 1px 3px 1px rgba(60, 64, 67, 0.15);\n",
              "      fill: #174EA6;\n",
              "    }\n",
              "\n",
              "    [theme=dark] .colab-df-convert {\n",
              "      background-color: #3B4455;\n",
              "      fill: #D2E3FC;\n",
              "    }\n",
              "\n",
              "    [theme=dark] .colab-df-convert:hover {\n",
              "      background-color: #434B5C;\n",
              "      box-shadow: 0px 1px 3px 1px rgba(0, 0, 0, 0.15);\n",
              "      filter: drop-shadow(0px 1px 2px rgba(0, 0, 0, 0.3));\n",
              "      fill: #FFFFFF;\n",
              "    }\n",
              "  </style>\n",
              "\n",
              "      <script>\n",
              "        const buttonEl =\n",
              "          document.querySelector('#df-55e95b0d-fa3d-4b94-995b-f2fcf90d1986 button.colab-df-convert');\n",
              "        buttonEl.style.display =\n",
              "          google.colab.kernel.accessAllowed ? 'block' : 'none';\n",
              "\n",
              "        async function convertToInteractive(key) {\n",
              "          const element = document.querySelector('#df-55e95b0d-fa3d-4b94-995b-f2fcf90d1986');\n",
              "          const dataTable =\n",
              "            await google.colab.kernel.invokeFunction('convertToInteractive',\n",
              "                                                     [key], {});\n",
              "          if (!dataTable) return;\n",
              "\n",
              "          const docLinkHtml = 'Like what you see? Visit the ' +\n",
              "            '<a target=\"_blank\" href=https://colab.research.google.com/notebooks/data_table.ipynb>data table notebook</a>'\n",
              "            + ' to learn more about interactive tables.';\n",
              "          element.innerHTML = '';\n",
              "          dataTable['output_type'] = 'display_data';\n",
              "          await google.colab.output.renderOutput(dataTable, element);\n",
              "          const docLink = document.createElement('div');\n",
              "          docLink.innerHTML = docLinkHtml;\n",
              "          element.appendChild(docLink);\n",
              "        }\n",
              "      </script>\n",
              "    </div>\n",
              "  </div>\n",
              "  "
            ]
          },
          "metadata": {},
          "execution_count": 77
        }
      ],
      "source": [
        "dataset.head(5)"
      ]
    },
    {
      "cell_type": "code",
      "execution_count": null,
      "metadata": {
        "id": "7BO6Vk8VCZVs",
        "outputId": "9744d58c-a471-4650-81ec-c1c7e2aad995",
        "colab": {
          "base_uri": "https://localhost:8080/"
        }
      },
      "outputs": [
        {
          "output_type": "execute_result",
          "data": {
            "text/plain": [
              "R&D Spend          False\n",
              "Administration     False\n",
              "Marketing Spend    False\n",
              "State              False\n",
              "Profit             False\n",
              "dtype: bool"
            ]
          },
          "metadata": {},
          "execution_count": 78
        }
      ],
      "source": [
        "dataset.isnull().any()"
      ]
    },
    {
      "cell_type": "markdown",
      "metadata": {
        "id": "WQaBwQm1CZVu"
      },
      "source": [
        "# Label Encoding"
      ]
    },
    {
      "cell_type": "code",
      "execution_count": null,
      "metadata": {
        "id": "G2-XYh5cCZVx"
      },
      "outputs": [],
      "source": [
        "from sklearn.preprocessing import LabelEncoder\n",
        "le = LabelEncoder()\n",
        "dataset['State'] = le.fit_transform(dataset['State'])"
      ]
    },
    {
      "cell_type": "code",
      "execution_count": null,
      "metadata": {
        "id": "WTCmjihKCZVz",
        "outputId": "56172be2-a597-4c39-9727-9f81dbcbf0e1",
        "colab": {
          "base_uri": "https://localhost:8080/",
          "height": 206
        }
      },
      "outputs": [
        {
          "output_type": "execute_result",
          "data": {
            "text/plain": [
              "   R&D Spend  Administration  Marketing Spend  State     Profit\n",
              "0  165349.20       136897.80        471784.10      2  192261.83\n",
              "1  162597.70       151377.59        443898.53      0  191792.06\n",
              "2  153441.51       101145.55        407934.54      1  191050.39\n",
              "3  144372.41       118671.85        383199.62      2  182901.99\n",
              "4  142107.34        91391.77        366168.42      1  166187.94"
            ],
            "text/html": [
              "\n",
              "  <div id=\"df-439eaf32-aa83-4522-bee2-71f771b0006e\">\n",
              "    <div class=\"colab-df-container\">\n",
              "      <div>\n",
              "<style scoped>\n",
              "    .dataframe tbody tr th:only-of-type {\n",
              "        vertical-align: middle;\n",
              "    }\n",
              "\n",
              "    .dataframe tbody tr th {\n",
              "        vertical-align: top;\n",
              "    }\n",
              "\n",
              "    .dataframe thead th {\n",
              "        text-align: right;\n",
              "    }\n",
              "</style>\n",
              "<table border=\"1\" class=\"dataframe\">\n",
              "  <thead>\n",
              "    <tr style=\"text-align: right;\">\n",
              "      <th></th>\n",
              "      <th>R&amp;D Spend</th>\n",
              "      <th>Administration</th>\n",
              "      <th>Marketing Spend</th>\n",
              "      <th>State</th>\n",
              "      <th>Profit</th>\n",
              "    </tr>\n",
              "  </thead>\n",
              "  <tbody>\n",
              "    <tr>\n",
              "      <th>0</th>\n",
              "      <td>165349.20</td>\n",
              "      <td>136897.80</td>\n",
              "      <td>471784.10</td>\n",
              "      <td>2</td>\n",
              "      <td>192261.83</td>\n",
              "    </tr>\n",
              "    <tr>\n",
              "      <th>1</th>\n",
              "      <td>162597.70</td>\n",
              "      <td>151377.59</td>\n",
              "      <td>443898.53</td>\n",
              "      <td>0</td>\n",
              "      <td>191792.06</td>\n",
              "    </tr>\n",
              "    <tr>\n",
              "      <th>2</th>\n",
              "      <td>153441.51</td>\n",
              "      <td>101145.55</td>\n",
              "      <td>407934.54</td>\n",
              "      <td>1</td>\n",
              "      <td>191050.39</td>\n",
              "    </tr>\n",
              "    <tr>\n",
              "      <th>3</th>\n",
              "      <td>144372.41</td>\n",
              "      <td>118671.85</td>\n",
              "      <td>383199.62</td>\n",
              "      <td>2</td>\n",
              "      <td>182901.99</td>\n",
              "    </tr>\n",
              "    <tr>\n",
              "      <th>4</th>\n",
              "      <td>142107.34</td>\n",
              "      <td>91391.77</td>\n",
              "      <td>366168.42</td>\n",
              "      <td>1</td>\n",
              "      <td>166187.94</td>\n",
              "    </tr>\n",
              "  </tbody>\n",
              "</table>\n",
              "</div>\n",
              "      <button class=\"colab-df-convert\" onclick=\"convertToInteractive('df-439eaf32-aa83-4522-bee2-71f771b0006e')\"\n",
              "              title=\"Convert this dataframe to an interactive table.\"\n",
              "              style=\"display:none;\">\n",
              "        \n",
              "  <svg xmlns=\"http://www.w3.org/2000/svg\" height=\"24px\"viewBox=\"0 0 24 24\"\n",
              "       width=\"24px\">\n",
              "    <path d=\"M0 0h24v24H0V0z\" fill=\"none\"/>\n",
              "    <path d=\"M18.56 5.44l.94 2.06.94-2.06 2.06-.94-2.06-.94-.94-2.06-.94 2.06-2.06.94zm-11 1L8.5 8.5l.94-2.06 2.06-.94-2.06-.94L8.5 2.5l-.94 2.06-2.06.94zm10 10l.94 2.06.94-2.06 2.06-.94-2.06-.94-.94-2.06-.94 2.06-2.06.94z\"/><path d=\"M17.41 7.96l-1.37-1.37c-.4-.4-.92-.59-1.43-.59-.52 0-1.04.2-1.43.59L10.3 9.45l-7.72 7.72c-.78.78-.78 2.05 0 2.83L4 21.41c.39.39.9.59 1.41.59.51 0 1.02-.2 1.41-.59l7.78-7.78 2.81-2.81c.8-.78.8-2.07 0-2.86zM5.41 20L4 18.59l7.72-7.72 1.47 1.35L5.41 20z\"/>\n",
              "  </svg>\n",
              "      </button>\n",
              "      \n",
              "  <style>\n",
              "    .colab-df-container {\n",
              "      display:flex;\n",
              "      flex-wrap:wrap;\n",
              "      gap: 12px;\n",
              "    }\n",
              "\n",
              "    .colab-df-convert {\n",
              "      background-color: #E8F0FE;\n",
              "      border: none;\n",
              "      border-radius: 50%;\n",
              "      cursor: pointer;\n",
              "      display: none;\n",
              "      fill: #1967D2;\n",
              "      height: 32px;\n",
              "      padding: 0 0 0 0;\n",
              "      width: 32px;\n",
              "    }\n",
              "\n",
              "    .colab-df-convert:hover {\n",
              "      background-color: #E2EBFA;\n",
              "      box-shadow: 0px 1px 2px rgba(60, 64, 67, 0.3), 0px 1px 3px 1px rgba(60, 64, 67, 0.15);\n",
              "      fill: #174EA6;\n",
              "    }\n",
              "\n",
              "    [theme=dark] .colab-df-convert {\n",
              "      background-color: #3B4455;\n",
              "      fill: #D2E3FC;\n",
              "    }\n",
              "\n",
              "    [theme=dark] .colab-df-convert:hover {\n",
              "      background-color: #434B5C;\n",
              "      box-shadow: 0px 1px 3px 1px rgba(0, 0, 0, 0.15);\n",
              "      filter: drop-shadow(0px 1px 2px rgba(0, 0, 0, 0.3));\n",
              "      fill: #FFFFFF;\n",
              "    }\n",
              "  </style>\n",
              "\n",
              "      <script>\n",
              "        const buttonEl =\n",
              "          document.querySelector('#df-439eaf32-aa83-4522-bee2-71f771b0006e button.colab-df-convert');\n",
              "        buttonEl.style.display =\n",
              "          google.colab.kernel.accessAllowed ? 'block' : 'none';\n",
              "\n",
              "        async function convertToInteractive(key) {\n",
              "          const element = document.querySelector('#df-439eaf32-aa83-4522-bee2-71f771b0006e');\n",
              "          const dataTable =\n",
              "            await google.colab.kernel.invokeFunction('convertToInteractive',\n",
              "                                                     [key], {});\n",
              "          if (!dataTable) return;\n",
              "\n",
              "          const docLinkHtml = 'Like what you see? Visit the ' +\n",
              "            '<a target=\"_blank\" href=https://colab.research.google.com/notebooks/data_table.ipynb>data table notebook</a>'\n",
              "            + ' to learn more about interactive tables.';\n",
              "          element.innerHTML = '';\n",
              "          dataTable['output_type'] = 'display_data';\n",
              "          await google.colab.output.renderOutput(dataTable, element);\n",
              "          const docLink = document.createElement('div');\n",
              "          docLink.innerHTML = docLinkHtml;\n",
              "          element.appendChild(docLink);\n",
              "        }\n",
              "      </script>\n",
              "    </div>\n",
              "  </div>\n",
              "  "
            ]
          },
          "metadata": {},
          "execution_count": 80
        }
      ],
      "source": [
        "dataset.head()"
      ]
    },
    {
      "cell_type": "code",
      "source": [],
      "metadata": {
        "id": "OjA8y5aGN5e9"
      },
      "execution_count": null,
      "outputs": []
    },
    {
      "cell_type": "code",
      "execution_count": null,
      "metadata": {
        "id": "05JWi3PYCZV2"
      },
      "outputs": [],
      "source": [
        "x  = dataset.iloc[:,0:4].values\n",
        "y = dataset.iloc[:,4:5].values"
      ]
    },
    {
      "cell_type": "code",
      "source": [
        "x"
      ],
      "metadata": {
        "colab": {
          "base_uri": "https://localhost:8080/"
        },
        "id": "J8weMER4Ixuj",
        "outputId": "b65e07bf-36d2-44fb-a85c-985a17608b61"
      },
      "execution_count": null,
      "outputs": [
        {
          "output_type": "execute_result",
          "data": {
            "text/plain": [
              "array([[1.6534920e+05, 1.3689780e+05, 4.7178410e+05, 2.0000000e+00],\n",
              "       [1.6259770e+05, 1.5137759e+05, 4.4389853e+05, 0.0000000e+00],\n",
              "       [1.5344151e+05, 1.0114555e+05, 4.0793454e+05, 1.0000000e+00],\n",
              "       [1.4437241e+05, 1.1867185e+05, 3.8319962e+05, 2.0000000e+00],\n",
              "       [1.4210734e+05, 9.1391770e+04, 3.6616842e+05, 1.0000000e+00],\n",
              "       [1.3187690e+05, 9.9814710e+04, 3.6286136e+05, 2.0000000e+00],\n",
              "       [1.3461546e+05, 1.4719887e+05, 1.2771682e+05, 0.0000000e+00],\n",
              "       [1.3029813e+05, 1.4553006e+05, 3.2387668e+05, 1.0000000e+00],\n",
              "       [1.2054252e+05, 1.4871895e+05, 3.1161329e+05, 2.0000000e+00],\n",
              "       [1.2333488e+05, 1.0867917e+05, 3.0498162e+05, 0.0000000e+00],\n",
              "       [1.0191308e+05, 1.1059411e+05, 2.2916095e+05, 1.0000000e+00],\n",
              "       [1.0067196e+05, 9.1790610e+04, 2.4974455e+05, 0.0000000e+00],\n",
              "       [9.3863750e+04, 1.2732038e+05, 2.4983944e+05, 1.0000000e+00],\n",
              "       [9.1992390e+04, 1.3549507e+05, 2.5266493e+05, 0.0000000e+00],\n",
              "       [1.1994324e+05, 1.5654742e+05, 2.5651292e+05, 1.0000000e+00],\n",
              "       [1.1452361e+05, 1.2261684e+05, 2.6177623e+05, 2.0000000e+00],\n",
              "       [7.8013110e+04, 1.2159755e+05, 2.6434606e+05, 0.0000000e+00],\n",
              "       [9.4657160e+04, 1.4507758e+05, 2.8257431e+05, 2.0000000e+00],\n",
              "       [9.1749160e+04, 1.1417579e+05, 2.9491957e+05, 1.0000000e+00],\n",
              "       [8.6419700e+04, 1.5351411e+05, 0.0000000e+00, 2.0000000e+00],\n",
              "       [7.6253860e+04, 1.1386730e+05, 2.9866447e+05, 0.0000000e+00],\n",
              "       [7.8389470e+04, 1.5377343e+05, 2.9973729e+05, 2.0000000e+00],\n",
              "       [7.3994560e+04, 1.2278275e+05, 3.0331926e+05, 1.0000000e+00],\n",
              "       [6.7532530e+04, 1.0575103e+05, 3.0476873e+05, 1.0000000e+00],\n",
              "       [7.7044010e+04, 9.9281340e+04, 1.4057481e+05, 2.0000000e+00],\n",
              "       [6.4664710e+04, 1.3955316e+05, 1.3796262e+05, 0.0000000e+00],\n",
              "       [7.5328870e+04, 1.4413598e+05, 1.3405007e+05, 1.0000000e+00],\n",
              "       [7.2107600e+04, 1.2786455e+05, 3.5318381e+05, 2.0000000e+00],\n",
              "       [6.6051520e+04, 1.8264556e+05, 1.1814820e+05, 1.0000000e+00],\n",
              "       [6.5605480e+04, 1.5303206e+05, 1.0713838e+05, 2.0000000e+00],\n",
              "       [6.1994480e+04, 1.1564128e+05, 9.1131240e+04, 1.0000000e+00],\n",
              "       [6.1136380e+04, 1.5270192e+05, 8.8218230e+04, 2.0000000e+00],\n",
              "       [6.3408860e+04, 1.2921961e+05, 4.6085250e+04, 0.0000000e+00],\n",
              "       [5.5493950e+04, 1.0305749e+05, 2.1463481e+05, 1.0000000e+00],\n",
              "       [4.6426070e+04, 1.5769392e+05, 2.1079767e+05, 0.0000000e+00],\n",
              "       [4.6014020e+04, 8.5047440e+04, 2.0551764e+05, 2.0000000e+00],\n",
              "       [2.8663760e+04, 1.2705621e+05, 2.0112682e+05, 1.0000000e+00],\n",
              "       [4.4069950e+04, 5.1283140e+04, 1.9702942e+05, 0.0000000e+00],\n",
              "       [2.0229590e+04, 6.5947930e+04, 1.8526510e+05, 2.0000000e+00],\n",
              "       [3.8558510e+04, 8.2982090e+04, 1.7499930e+05, 0.0000000e+00],\n",
              "       [2.8754330e+04, 1.1854605e+05, 1.7279567e+05, 0.0000000e+00],\n",
              "       [2.7892920e+04, 8.4710770e+04, 1.6447071e+05, 1.0000000e+00],\n",
              "       [2.3640930e+04, 9.6189630e+04, 1.4800111e+05, 0.0000000e+00],\n",
              "       [1.5505730e+04, 1.2738230e+05, 3.5534170e+04, 2.0000000e+00],\n",
              "       [2.2177740e+04, 1.5480614e+05, 2.8334720e+04, 0.0000000e+00],\n",
              "       [1.0002300e+03, 1.2415304e+05, 1.9039300e+03, 2.0000000e+00],\n",
              "       [1.3154600e+03, 1.1581621e+05, 2.9711446e+05, 1.0000000e+00],\n",
              "       [0.0000000e+00, 1.3542692e+05, 0.0000000e+00, 0.0000000e+00],\n",
              "       [5.4205000e+02, 5.1743150e+04, 0.0000000e+00, 2.0000000e+00],\n",
              "       [0.0000000e+00, 1.1698380e+05, 4.5173060e+04, 0.0000000e+00],\n",
              "       [1.0067196e+05, 9.1790610e+04, 2.4974455e+05, 0.0000000e+00],\n",
              "       [9.3863750e+04, 1.2732038e+05, 2.4983944e+05, 1.0000000e+00],\n",
              "       [9.1992390e+04, 1.3549507e+05, 2.5266493e+05, 0.0000000e+00],\n",
              "       [1.1994324e+05, 1.5654742e+05, 2.5651292e+05, 1.0000000e+00],\n",
              "       [1.1452361e+05, 1.2261684e+05, 2.6177623e+05, 2.0000000e+00],\n",
              "       [7.8013110e+04, 1.2159755e+05, 2.6434606e+05, 0.0000000e+00],\n",
              "       [9.4657160e+04, 1.4507758e+05, 2.8257431e+05, 2.0000000e+00],\n",
              "       [9.1749160e+04, 1.1417579e+05, 2.9491957e+05, 1.0000000e+00],\n",
              "       [8.6419700e+04, 1.5351411e+05, 0.0000000e+00, 2.0000000e+00],\n",
              "       [7.6253860e+04, 1.1386730e+05, 2.9866447e+05, 0.0000000e+00],\n",
              "       [7.8389470e+04, 1.5377343e+05, 2.9973729e+05, 2.0000000e+00],\n",
              "       [7.3994560e+04, 1.2278275e+05, 3.0331926e+05, 1.0000000e+00],\n",
              "       [6.7532530e+04, 1.0575103e+05, 3.0476873e+05, 1.0000000e+00],\n",
              "       [7.7044010e+04, 9.9281340e+04, 1.4057481e+05, 2.0000000e+00],\n",
              "       [6.4664710e+04, 1.3955316e+05, 1.3796262e+05, 0.0000000e+00],\n",
              "       [7.5328870e+04, 1.4413598e+05, 1.3405007e+05, 1.0000000e+00],\n",
              "       [7.2107600e+04, 1.2786455e+05, 3.5318381e+05, 2.0000000e+00],\n",
              "       [6.6051520e+04, 1.8264556e+05, 1.1814820e+05, 1.0000000e+00],\n",
              "       [6.5605480e+04, 1.5303206e+05, 1.0713838e+05, 2.0000000e+00],\n",
              "       [6.1994480e+04, 1.1564128e+05, 9.1131240e+04, 2.0000000e+00],\n",
              "       [2.0229590e+04, 1.5270192e+05, 8.8218230e+04, 2.0000000e+00],\n",
              "       [6.3408860e+04, 1.2921961e+05, 4.6085250e+04, 0.0000000e+00],\n",
              "       [5.5493950e+04, 1.0305749e+05, 2.1463481e+05, 1.0000000e+00],\n",
              "       [4.6426070e+04, 1.5769392e+05, 2.1079767e+05, 2.0000000e+00],\n",
              "       [2.0229590e+04, 8.5047440e+04, 2.0551764e+05, 2.0000000e+00],\n",
              "       [2.8663760e+04, 1.2705621e+05, 2.0112682e+05, 1.0000000e+00],\n",
              "       [4.4069950e+04, 5.1283140e+04, 1.9702942e+05, 0.0000000e+00],\n",
              "       [2.0229590e+04, 6.5947930e+04, 1.8526510e+05, 2.0000000e+00],\n",
              "       [3.8558510e+04, 8.2982090e+04, 1.7499930e+05, 0.0000000e+00],\n",
              "       [2.8754330e+04, 1.1854605e+05, 1.7279567e+05, 0.0000000e+00],\n",
              "       [2.7892920e+04, 8.4710770e+04, 1.6447071e+05, 2.0000000e+00],\n",
              "       [2.3640930e+04, 9.6189630e+04, 1.4800111e+05, 0.0000000e+00],\n",
              "       [2.0229590e+04, 1.2738230e+05, 3.5534170e+04, 2.0000000e+00],\n",
              "       [2.2177740e+04, 1.5480614e+05, 2.8334720e+04, 0.0000000e+00],\n",
              "       [1.0002300e+03, 1.2415304e+05, 1.9039300e+03, 2.0000000e+00],\n",
              "       [1.3154600e+03, 1.1581621e+05, 2.9711446e+05, 1.0000000e+00],\n",
              "       [0.0000000e+00, 1.3542692e+05, 0.0000000e+00, 0.0000000e+00],\n",
              "       [5.4205000e+02, 5.1743150e+04, 0.0000000e+00, 2.0000000e+00],\n",
              "       [0.0000000e+00, 1.1698380e+05, 4.5173060e+04, 0.0000000e+00],\n",
              "       [1.6534920e+05, 1.3689780e+05, 4.7178410e+05, 2.0000000e+00],\n",
              "       [1.6259770e+05, 1.5137759e+05, 4.4389853e+05, 0.0000000e+00],\n",
              "       [1.5344151e+05, 1.0114555e+05, 4.0793454e+05, 1.0000000e+00],\n",
              "       [1.4437241e+05, 1.1867185e+05, 3.8319962e+05, 2.0000000e+00],\n",
              "       [1.4210734e+05, 9.1391770e+04, 3.6616842e+05, 1.0000000e+00],\n",
              "       [1.3187690e+05, 9.9814710e+04, 3.6286136e+05, 2.0000000e+00],\n",
              "       [1.3461546e+05, 1.4719887e+05, 1.2771682e+05, 0.0000000e+00],\n",
              "       [1.3029813e+05, 1.4553006e+05, 3.2387668e+05, 1.0000000e+00],\n",
              "       [1.2054252e+05, 1.4871895e+05, 3.1161329e+05, 2.0000000e+00],\n",
              "       [1.2333488e+05, 1.0867917e+05, 3.0498162e+05, 0.0000000e+00],\n",
              "       [1.0191308e+05, 1.1059411e+05, 2.2916095e+05, 1.0000000e+00],\n",
              "       [1.0067196e+05, 9.1790610e+04, 2.4974455e+05, 0.0000000e+00],\n",
              "       [9.3863750e+04, 1.2732038e+05, 2.4983944e+05, 1.0000000e+00],\n",
              "       [9.1992390e+04, 1.3549507e+05, 2.5266493e+05, 0.0000000e+00],\n",
              "       [1.1994324e+05, 1.5654742e+05, 2.5651292e+05, 1.0000000e+00],\n",
              "       [1.1452361e+05, 1.2261684e+05, 2.6177623e+05, 2.0000000e+00],\n",
              "       [7.8013110e+04, 1.2159755e+05, 2.6434606e+05, 0.0000000e+00],\n",
              "       [9.4657160e+04, 1.4507758e+05, 2.8257431e+05, 2.0000000e+00],\n",
              "       [9.1749160e+04, 1.1417579e+05, 2.9491957e+05, 1.0000000e+00]])"
            ]
          },
          "metadata": {},
          "execution_count": 82
        }
      ]
    },
    {
      "cell_type": "code",
      "source": [
        "y"
      ],
      "metadata": {
        "colab": {
          "base_uri": "https://localhost:8080/"
        },
        "id": "8cGxSm-1IzCj",
        "outputId": "e57e5744-3301-47c1-bede-755343ab1063"
      },
      "execution_count": null,
      "outputs": [
        {
          "output_type": "execute_result",
          "data": {
            "text/plain": [
              "array([[192261.83],\n",
              "       [191792.06],\n",
              "       [191050.39],\n",
              "       [182901.99],\n",
              "       [166187.94],\n",
              "       [156991.12],\n",
              "       [156122.51],\n",
              "       [155752.6 ],\n",
              "       [152211.77],\n",
              "       [149759.96],\n",
              "       [146121.95],\n",
              "       [144259.4 ],\n",
              "       [141585.52],\n",
              "       [134307.35],\n",
              "       [132602.65],\n",
              "       [129917.04],\n",
              "       [126992.93],\n",
              "       [125370.37],\n",
              "       [124266.9 ],\n",
              "       [122776.86],\n",
              "       [118474.03],\n",
              "       [111313.02],\n",
              "       [110352.25],\n",
              "       [108733.99],\n",
              "       [108552.04],\n",
              "       [107404.34],\n",
              "       [105733.54],\n",
              "       [105008.31],\n",
              "       [103282.38],\n",
              "       [101004.64],\n",
              "       [ 99937.59],\n",
              "       [ 97483.56],\n",
              "       [ 97427.84],\n",
              "       [ 96778.92],\n",
              "       [ 96712.8 ],\n",
              "       [ 96479.51],\n",
              "       [ 90708.19],\n",
              "       [ 89949.14],\n",
              "       [ 81229.06],\n",
              "       [ 81005.76],\n",
              "       [ 78239.91],\n",
              "       [ 77798.83],\n",
              "       [ 71498.49],\n",
              "       [ 69758.98],\n",
              "       [ 65200.33],\n",
              "       [ 64926.08],\n",
              "       [ 49490.75],\n",
              "       [ 42559.73],\n",
              "       [ 35673.41],\n",
              "       [ 14681.4 ],\n",
              "       [144259.4 ],\n",
              "       [141585.52],\n",
              "       [134307.35],\n",
              "       [132602.65],\n",
              "       [129917.04],\n",
              "       [126992.93],\n",
              "       [125370.37],\n",
              "       [124266.9 ],\n",
              "       [122776.86],\n",
              "       [118474.03],\n",
              "       [111313.02],\n",
              "       [110352.25],\n",
              "       [108733.99],\n",
              "       [108552.04],\n",
              "       [107404.34],\n",
              "       [105733.54],\n",
              "       [105008.31],\n",
              "       [103282.38],\n",
              "       [101004.64],\n",
              "       [ 99937.59],\n",
              "       [ 97483.56],\n",
              "       [ 97427.84],\n",
              "       [ 96778.92],\n",
              "       [ 96712.8 ],\n",
              "       [ 96479.51],\n",
              "       [ 90708.19],\n",
              "       [ 89949.14],\n",
              "       [ 81229.06],\n",
              "       [ 81005.76],\n",
              "       [ 78239.91],\n",
              "       [ 77798.83],\n",
              "       [ 71498.49],\n",
              "       [ 69758.98],\n",
              "       [ 65200.33],\n",
              "       [ 64926.08],\n",
              "       [ 49490.75],\n",
              "       [ 42559.73],\n",
              "       [ 35673.41],\n",
              "       [ 14681.4 ],\n",
              "       [192261.83],\n",
              "       [191792.06],\n",
              "       [191050.39],\n",
              "       [182901.99],\n",
              "       [166187.94],\n",
              "       [156991.12],\n",
              "       [156122.51],\n",
              "       [155752.6 ],\n",
              "       [152211.77],\n",
              "       [149759.96],\n",
              "       [146121.95],\n",
              "       [144259.4 ],\n",
              "       [141585.52],\n",
              "       [134307.35],\n",
              "       [132602.65],\n",
              "       [129917.04],\n",
              "       [126992.93],\n",
              "       [125370.37],\n",
              "       [124266.9 ]])"
            ]
          },
          "metadata": {},
          "execution_count": 83
        }
      ]
    },
    {
      "cell_type": "markdown",
      "metadata": {
        "id": "maoq8qs4CZV3"
      },
      "source": [
        "# One-Hot Encoding"
      ]
    },
    {
      "cell_type": "code",
      "execution_count": null,
      "metadata": {
        "id": "kA-k0XzwCZV4"
      },
      "outputs": [],
      "source": [
        "from sklearn.preprocessing import OneHotEncoder\n",
        "one = OneHotEncoder()\n",
        "z=one.fit_transform(x[:,3:4]).toarray()\n",
        "x=np.delete(x,3,axis=1)\n",
        "x=np.concatenate((z,x),axis=1)\n"
      ]
    },
    {
      "cell_type": "code",
      "source": [
        "x"
      ],
      "metadata": {
        "colab": {
          "base_uri": "https://localhost:8080/"
        },
        "id": "Zj9FJnmsI626",
        "outputId": "02625a32-26ca-411a-ccf4-c3e1c82d468e"
      },
      "execution_count": null,
      "outputs": [
        {
          "output_type": "execute_result",
          "data": {
            "text/plain": [
              "array([[0.0000000e+00, 0.0000000e+00, 1.0000000e+00, 1.6534920e+05,\n",
              "        1.3689780e+05, 4.7178410e+05],\n",
              "       [1.0000000e+00, 0.0000000e+00, 0.0000000e+00, 1.6259770e+05,\n",
              "        1.5137759e+05, 4.4389853e+05],\n",
              "       [0.0000000e+00, 1.0000000e+00, 0.0000000e+00, 1.5344151e+05,\n",
              "        1.0114555e+05, 4.0793454e+05],\n",
              "       [0.0000000e+00, 0.0000000e+00, 1.0000000e+00, 1.4437241e+05,\n",
              "        1.1867185e+05, 3.8319962e+05],\n",
              "       [0.0000000e+00, 1.0000000e+00, 0.0000000e+00, 1.4210734e+05,\n",
              "        9.1391770e+04, 3.6616842e+05],\n",
              "       [0.0000000e+00, 0.0000000e+00, 1.0000000e+00, 1.3187690e+05,\n",
              "        9.9814710e+04, 3.6286136e+05],\n",
              "       [1.0000000e+00, 0.0000000e+00, 0.0000000e+00, 1.3461546e+05,\n",
              "        1.4719887e+05, 1.2771682e+05],\n",
              "       [0.0000000e+00, 1.0000000e+00, 0.0000000e+00, 1.3029813e+05,\n",
              "        1.4553006e+05, 3.2387668e+05],\n",
              "       [0.0000000e+00, 0.0000000e+00, 1.0000000e+00, 1.2054252e+05,\n",
              "        1.4871895e+05, 3.1161329e+05],\n",
              "       [1.0000000e+00, 0.0000000e+00, 0.0000000e+00, 1.2333488e+05,\n",
              "        1.0867917e+05, 3.0498162e+05],\n",
              "       [0.0000000e+00, 1.0000000e+00, 0.0000000e+00, 1.0191308e+05,\n",
              "        1.1059411e+05, 2.2916095e+05],\n",
              "       [1.0000000e+00, 0.0000000e+00, 0.0000000e+00, 1.0067196e+05,\n",
              "        9.1790610e+04, 2.4974455e+05],\n",
              "       [0.0000000e+00, 1.0000000e+00, 0.0000000e+00, 9.3863750e+04,\n",
              "        1.2732038e+05, 2.4983944e+05],\n",
              "       [1.0000000e+00, 0.0000000e+00, 0.0000000e+00, 9.1992390e+04,\n",
              "        1.3549507e+05, 2.5266493e+05],\n",
              "       [0.0000000e+00, 1.0000000e+00, 0.0000000e+00, 1.1994324e+05,\n",
              "        1.5654742e+05, 2.5651292e+05],\n",
              "       [0.0000000e+00, 0.0000000e+00, 1.0000000e+00, 1.1452361e+05,\n",
              "        1.2261684e+05, 2.6177623e+05],\n",
              "       [1.0000000e+00, 0.0000000e+00, 0.0000000e+00, 7.8013110e+04,\n",
              "        1.2159755e+05, 2.6434606e+05],\n",
              "       [0.0000000e+00, 0.0000000e+00, 1.0000000e+00, 9.4657160e+04,\n",
              "        1.4507758e+05, 2.8257431e+05],\n",
              "       [0.0000000e+00, 1.0000000e+00, 0.0000000e+00, 9.1749160e+04,\n",
              "        1.1417579e+05, 2.9491957e+05],\n",
              "       [0.0000000e+00, 0.0000000e+00, 1.0000000e+00, 8.6419700e+04,\n",
              "        1.5351411e+05, 0.0000000e+00],\n",
              "       [1.0000000e+00, 0.0000000e+00, 0.0000000e+00, 7.6253860e+04,\n",
              "        1.1386730e+05, 2.9866447e+05],\n",
              "       [0.0000000e+00, 0.0000000e+00, 1.0000000e+00, 7.8389470e+04,\n",
              "        1.5377343e+05, 2.9973729e+05],\n",
              "       [0.0000000e+00, 1.0000000e+00, 0.0000000e+00, 7.3994560e+04,\n",
              "        1.2278275e+05, 3.0331926e+05],\n",
              "       [0.0000000e+00, 1.0000000e+00, 0.0000000e+00, 6.7532530e+04,\n",
              "        1.0575103e+05, 3.0476873e+05],\n",
              "       [0.0000000e+00, 0.0000000e+00, 1.0000000e+00, 7.7044010e+04,\n",
              "        9.9281340e+04, 1.4057481e+05],\n",
              "       [1.0000000e+00, 0.0000000e+00, 0.0000000e+00, 6.4664710e+04,\n",
              "        1.3955316e+05, 1.3796262e+05],\n",
              "       [0.0000000e+00, 1.0000000e+00, 0.0000000e+00, 7.5328870e+04,\n",
              "        1.4413598e+05, 1.3405007e+05],\n",
              "       [0.0000000e+00, 0.0000000e+00, 1.0000000e+00, 7.2107600e+04,\n",
              "        1.2786455e+05, 3.5318381e+05],\n",
              "       [0.0000000e+00, 1.0000000e+00, 0.0000000e+00, 6.6051520e+04,\n",
              "        1.8264556e+05, 1.1814820e+05],\n",
              "       [0.0000000e+00, 0.0000000e+00, 1.0000000e+00, 6.5605480e+04,\n",
              "        1.5303206e+05, 1.0713838e+05],\n",
              "       [0.0000000e+00, 1.0000000e+00, 0.0000000e+00, 6.1994480e+04,\n",
              "        1.1564128e+05, 9.1131240e+04],\n",
              "       [0.0000000e+00, 0.0000000e+00, 1.0000000e+00, 6.1136380e+04,\n",
              "        1.5270192e+05, 8.8218230e+04],\n",
              "       [1.0000000e+00, 0.0000000e+00, 0.0000000e+00, 6.3408860e+04,\n",
              "        1.2921961e+05, 4.6085250e+04],\n",
              "       [0.0000000e+00, 1.0000000e+00, 0.0000000e+00, 5.5493950e+04,\n",
              "        1.0305749e+05, 2.1463481e+05],\n",
              "       [1.0000000e+00, 0.0000000e+00, 0.0000000e+00, 4.6426070e+04,\n",
              "        1.5769392e+05, 2.1079767e+05],\n",
              "       [0.0000000e+00, 0.0000000e+00, 1.0000000e+00, 4.6014020e+04,\n",
              "        8.5047440e+04, 2.0551764e+05],\n",
              "       [0.0000000e+00, 1.0000000e+00, 0.0000000e+00, 2.8663760e+04,\n",
              "        1.2705621e+05, 2.0112682e+05],\n",
              "       [1.0000000e+00, 0.0000000e+00, 0.0000000e+00, 4.4069950e+04,\n",
              "        5.1283140e+04, 1.9702942e+05],\n",
              "       [0.0000000e+00, 0.0000000e+00, 1.0000000e+00, 2.0229590e+04,\n",
              "        6.5947930e+04, 1.8526510e+05],\n",
              "       [1.0000000e+00, 0.0000000e+00, 0.0000000e+00, 3.8558510e+04,\n",
              "        8.2982090e+04, 1.7499930e+05],\n",
              "       [1.0000000e+00, 0.0000000e+00, 0.0000000e+00, 2.8754330e+04,\n",
              "        1.1854605e+05, 1.7279567e+05],\n",
              "       [0.0000000e+00, 1.0000000e+00, 0.0000000e+00, 2.7892920e+04,\n",
              "        8.4710770e+04, 1.6447071e+05],\n",
              "       [1.0000000e+00, 0.0000000e+00, 0.0000000e+00, 2.3640930e+04,\n",
              "        9.6189630e+04, 1.4800111e+05],\n",
              "       [0.0000000e+00, 0.0000000e+00, 1.0000000e+00, 1.5505730e+04,\n",
              "        1.2738230e+05, 3.5534170e+04],\n",
              "       [1.0000000e+00, 0.0000000e+00, 0.0000000e+00, 2.2177740e+04,\n",
              "        1.5480614e+05, 2.8334720e+04],\n",
              "       [0.0000000e+00, 0.0000000e+00, 1.0000000e+00, 1.0002300e+03,\n",
              "        1.2415304e+05, 1.9039300e+03],\n",
              "       [0.0000000e+00, 1.0000000e+00, 0.0000000e+00, 1.3154600e+03,\n",
              "        1.1581621e+05, 2.9711446e+05],\n",
              "       [1.0000000e+00, 0.0000000e+00, 0.0000000e+00, 0.0000000e+00,\n",
              "        1.3542692e+05, 0.0000000e+00],\n",
              "       [0.0000000e+00, 0.0000000e+00, 1.0000000e+00, 5.4205000e+02,\n",
              "        5.1743150e+04, 0.0000000e+00],\n",
              "       [1.0000000e+00, 0.0000000e+00, 0.0000000e+00, 0.0000000e+00,\n",
              "        1.1698380e+05, 4.5173060e+04],\n",
              "       [1.0000000e+00, 0.0000000e+00, 0.0000000e+00, 1.0067196e+05,\n",
              "        9.1790610e+04, 2.4974455e+05],\n",
              "       [0.0000000e+00, 1.0000000e+00, 0.0000000e+00, 9.3863750e+04,\n",
              "        1.2732038e+05, 2.4983944e+05],\n",
              "       [1.0000000e+00, 0.0000000e+00, 0.0000000e+00, 9.1992390e+04,\n",
              "        1.3549507e+05, 2.5266493e+05],\n",
              "       [0.0000000e+00, 1.0000000e+00, 0.0000000e+00, 1.1994324e+05,\n",
              "        1.5654742e+05, 2.5651292e+05],\n",
              "       [0.0000000e+00, 0.0000000e+00, 1.0000000e+00, 1.1452361e+05,\n",
              "        1.2261684e+05, 2.6177623e+05],\n",
              "       [1.0000000e+00, 0.0000000e+00, 0.0000000e+00, 7.8013110e+04,\n",
              "        1.2159755e+05, 2.6434606e+05],\n",
              "       [0.0000000e+00, 0.0000000e+00, 1.0000000e+00, 9.4657160e+04,\n",
              "        1.4507758e+05, 2.8257431e+05],\n",
              "       [0.0000000e+00, 1.0000000e+00, 0.0000000e+00, 9.1749160e+04,\n",
              "        1.1417579e+05, 2.9491957e+05],\n",
              "       [0.0000000e+00, 0.0000000e+00, 1.0000000e+00, 8.6419700e+04,\n",
              "        1.5351411e+05, 0.0000000e+00],\n",
              "       [1.0000000e+00, 0.0000000e+00, 0.0000000e+00, 7.6253860e+04,\n",
              "        1.1386730e+05, 2.9866447e+05],\n",
              "       [0.0000000e+00, 0.0000000e+00, 1.0000000e+00, 7.8389470e+04,\n",
              "        1.5377343e+05, 2.9973729e+05],\n",
              "       [0.0000000e+00, 1.0000000e+00, 0.0000000e+00, 7.3994560e+04,\n",
              "        1.2278275e+05, 3.0331926e+05],\n",
              "       [0.0000000e+00, 1.0000000e+00, 0.0000000e+00, 6.7532530e+04,\n",
              "        1.0575103e+05, 3.0476873e+05],\n",
              "       [0.0000000e+00, 0.0000000e+00, 1.0000000e+00, 7.7044010e+04,\n",
              "        9.9281340e+04, 1.4057481e+05],\n",
              "       [1.0000000e+00, 0.0000000e+00, 0.0000000e+00, 6.4664710e+04,\n",
              "        1.3955316e+05, 1.3796262e+05],\n",
              "       [0.0000000e+00, 1.0000000e+00, 0.0000000e+00, 7.5328870e+04,\n",
              "        1.4413598e+05, 1.3405007e+05],\n",
              "       [0.0000000e+00, 0.0000000e+00, 1.0000000e+00, 7.2107600e+04,\n",
              "        1.2786455e+05, 3.5318381e+05],\n",
              "       [0.0000000e+00, 1.0000000e+00, 0.0000000e+00, 6.6051520e+04,\n",
              "        1.8264556e+05, 1.1814820e+05],\n",
              "       [0.0000000e+00, 0.0000000e+00, 1.0000000e+00, 6.5605480e+04,\n",
              "        1.5303206e+05, 1.0713838e+05],\n",
              "       [0.0000000e+00, 0.0000000e+00, 1.0000000e+00, 6.1994480e+04,\n",
              "        1.1564128e+05, 9.1131240e+04],\n",
              "       [0.0000000e+00, 0.0000000e+00, 1.0000000e+00, 2.0229590e+04,\n",
              "        1.5270192e+05, 8.8218230e+04],\n",
              "       [1.0000000e+00, 0.0000000e+00, 0.0000000e+00, 6.3408860e+04,\n",
              "        1.2921961e+05, 4.6085250e+04],\n",
              "       [0.0000000e+00, 1.0000000e+00, 0.0000000e+00, 5.5493950e+04,\n",
              "        1.0305749e+05, 2.1463481e+05],\n",
              "       [0.0000000e+00, 0.0000000e+00, 1.0000000e+00, 4.6426070e+04,\n",
              "        1.5769392e+05, 2.1079767e+05],\n",
              "       [0.0000000e+00, 0.0000000e+00, 1.0000000e+00, 2.0229590e+04,\n",
              "        8.5047440e+04, 2.0551764e+05],\n",
              "       [0.0000000e+00, 1.0000000e+00, 0.0000000e+00, 2.8663760e+04,\n",
              "        1.2705621e+05, 2.0112682e+05],\n",
              "       [1.0000000e+00, 0.0000000e+00, 0.0000000e+00, 4.4069950e+04,\n",
              "        5.1283140e+04, 1.9702942e+05],\n",
              "       [0.0000000e+00, 0.0000000e+00, 1.0000000e+00, 2.0229590e+04,\n",
              "        6.5947930e+04, 1.8526510e+05],\n",
              "       [1.0000000e+00, 0.0000000e+00, 0.0000000e+00, 3.8558510e+04,\n",
              "        8.2982090e+04, 1.7499930e+05],\n",
              "       [1.0000000e+00, 0.0000000e+00, 0.0000000e+00, 2.8754330e+04,\n",
              "        1.1854605e+05, 1.7279567e+05],\n",
              "       [0.0000000e+00, 0.0000000e+00, 1.0000000e+00, 2.7892920e+04,\n",
              "        8.4710770e+04, 1.6447071e+05],\n",
              "       [1.0000000e+00, 0.0000000e+00, 0.0000000e+00, 2.3640930e+04,\n",
              "        9.6189630e+04, 1.4800111e+05],\n",
              "       [0.0000000e+00, 0.0000000e+00, 1.0000000e+00, 2.0229590e+04,\n",
              "        1.2738230e+05, 3.5534170e+04],\n",
              "       [1.0000000e+00, 0.0000000e+00, 0.0000000e+00, 2.2177740e+04,\n",
              "        1.5480614e+05, 2.8334720e+04],\n",
              "       [0.0000000e+00, 0.0000000e+00, 1.0000000e+00, 1.0002300e+03,\n",
              "        1.2415304e+05, 1.9039300e+03],\n",
              "       [0.0000000e+00, 1.0000000e+00, 0.0000000e+00, 1.3154600e+03,\n",
              "        1.1581621e+05, 2.9711446e+05],\n",
              "       [1.0000000e+00, 0.0000000e+00, 0.0000000e+00, 0.0000000e+00,\n",
              "        1.3542692e+05, 0.0000000e+00],\n",
              "       [0.0000000e+00, 0.0000000e+00, 1.0000000e+00, 5.4205000e+02,\n",
              "        5.1743150e+04, 0.0000000e+00],\n",
              "       [1.0000000e+00, 0.0000000e+00, 0.0000000e+00, 0.0000000e+00,\n",
              "        1.1698380e+05, 4.5173060e+04],\n",
              "       [0.0000000e+00, 0.0000000e+00, 1.0000000e+00, 1.6534920e+05,\n",
              "        1.3689780e+05, 4.7178410e+05],\n",
              "       [1.0000000e+00, 0.0000000e+00, 0.0000000e+00, 1.6259770e+05,\n",
              "        1.5137759e+05, 4.4389853e+05],\n",
              "       [0.0000000e+00, 1.0000000e+00, 0.0000000e+00, 1.5344151e+05,\n",
              "        1.0114555e+05, 4.0793454e+05],\n",
              "       [0.0000000e+00, 0.0000000e+00, 1.0000000e+00, 1.4437241e+05,\n",
              "        1.1867185e+05, 3.8319962e+05],\n",
              "       [0.0000000e+00, 1.0000000e+00, 0.0000000e+00, 1.4210734e+05,\n",
              "        9.1391770e+04, 3.6616842e+05],\n",
              "       [0.0000000e+00, 0.0000000e+00, 1.0000000e+00, 1.3187690e+05,\n",
              "        9.9814710e+04, 3.6286136e+05],\n",
              "       [1.0000000e+00, 0.0000000e+00, 0.0000000e+00, 1.3461546e+05,\n",
              "        1.4719887e+05, 1.2771682e+05],\n",
              "       [0.0000000e+00, 1.0000000e+00, 0.0000000e+00, 1.3029813e+05,\n",
              "        1.4553006e+05, 3.2387668e+05],\n",
              "       [0.0000000e+00, 0.0000000e+00, 1.0000000e+00, 1.2054252e+05,\n",
              "        1.4871895e+05, 3.1161329e+05],\n",
              "       [1.0000000e+00, 0.0000000e+00, 0.0000000e+00, 1.2333488e+05,\n",
              "        1.0867917e+05, 3.0498162e+05],\n",
              "       [0.0000000e+00, 1.0000000e+00, 0.0000000e+00, 1.0191308e+05,\n",
              "        1.1059411e+05, 2.2916095e+05],\n",
              "       [1.0000000e+00, 0.0000000e+00, 0.0000000e+00, 1.0067196e+05,\n",
              "        9.1790610e+04, 2.4974455e+05],\n",
              "       [0.0000000e+00, 1.0000000e+00, 0.0000000e+00, 9.3863750e+04,\n",
              "        1.2732038e+05, 2.4983944e+05],\n",
              "       [1.0000000e+00, 0.0000000e+00, 0.0000000e+00, 9.1992390e+04,\n",
              "        1.3549507e+05, 2.5266493e+05],\n",
              "       [0.0000000e+00, 1.0000000e+00, 0.0000000e+00, 1.1994324e+05,\n",
              "        1.5654742e+05, 2.5651292e+05],\n",
              "       [0.0000000e+00, 0.0000000e+00, 1.0000000e+00, 1.1452361e+05,\n",
              "        1.2261684e+05, 2.6177623e+05],\n",
              "       [1.0000000e+00, 0.0000000e+00, 0.0000000e+00, 7.8013110e+04,\n",
              "        1.2159755e+05, 2.6434606e+05],\n",
              "       [0.0000000e+00, 0.0000000e+00, 1.0000000e+00, 9.4657160e+04,\n",
              "        1.4507758e+05, 2.8257431e+05],\n",
              "       [0.0000000e+00, 1.0000000e+00, 0.0000000e+00, 9.1749160e+04,\n",
              "        1.1417579e+05, 2.9491957e+05]])"
            ]
          },
          "metadata": {},
          "execution_count": 85
        }
      ]
    },
    {
      "cell_type": "raw",
      "metadata": {
        "id": "Te6tznO2CZV5"
      },
      "source": [
        "[link text](https://)from sklearn.preprocessing import OneHotEncoder\n",
        "one=OneHotEncoder()\n",
        "z=one.fit_transform(x[:,3:4]).toarray()\n",
        "\n",
        "x=np.delete(x,3,axis=1)\n",
        "x=np.concatenate((z,x),axis=1)\n"
      ]
    },
    {
      "cell_type": "markdown",
      "metadata": {
        "id": "KD0HhtVPCZV7"
      },
      "source": [
        "# Train,Test & Split"
      ]
    },
    {
      "cell_type": "code",
      "execution_count": null,
      "metadata": {
        "id": "j2K_1zXfCZV7"
      },
      "outputs": [],
      "source": [
        "from sklearn.model_selection import train_test_split\n",
        "x_train,x_test,y_train,y_test = train_test_split(x,y, test_size = 0.2, random_state = 0)"
      ]
    },
    {
      "cell_type": "code",
      "execution_count": null,
      "metadata": {
        "id": "q-8PiIgKCZV8",
        "outputId": "e5c6f5d8-fc5c-4f35-86d6-558571f92255",
        "colab": {
          "base_uri": "https://localhost:8080/"
        }
      },
      "outputs": [
        {
          "output_type": "execute_result",
          "data": {
            "text/plain": [
              "(86, 6)"
            ]
          },
          "metadata": {},
          "execution_count": 14
        }
      ],
      "source": [
        "x_train.shape"
      ]
    },
    {
      "cell_type": "markdown",
      "metadata": {
        "id": "Dz1IMcSCCZV-"
      },
      "source": [
        "# Model Building"
      ]
    },
    {
      "cell_type": "raw",
      "metadata": {
        "id": "BGMh_a7ECZV-"
      },
      "source": [
        "Model Building\n",
        "    1-Import Necessary libraries\n",
        "    2-Add input layer(inputs=no of inputs in dataset=n,weights=random,AF=relu)\n",
        "    3-Add hidden layer(no of hidden neuron=inputs=2n or n/2,weights=random,AF)\n",
        "    4-Add output layer(inputs,weights,AF\n",
        "                      Regression-1,random,relu\n",
        "                      Binary-1,random,sigmoid\n",
        "                      Categorical-no of classes,random,softmax)\n",
        "    5-Configure the learning processs\n",
        "        (loss function,accuracy,optimizer)\n",
        "      Regression- (MSE,Gradient/Stochastic/Mini Batch)\n",
        "      Binary-(binary cross entropy,accuracy,Gradient/Stochastic/Mini Batch)\n",
        "      Categorical-(categorical cross entropy,accuracy,Gradient/Stochastic/Mini Batch)\n",
        "    6-Fit the Model(x_train,y_train,batch_size,no of epochs)"
      ]
    },
    {
      "cell_type": "markdown",
      "metadata": {
        "id": "FwS6ysplCZWA"
      },
      "source": [
        "# Importing Libraries\n",
        "\n",
        "> Indented block\n",
        "\n"
      ]
    },
    {
      "cell_type": "code",
      "execution_count": null,
      "metadata": {
        "id": "uqS5td_zCZWA"
      },
      "outputs": [],
      "source": [
        "import tensorflow.keras\n",
        "from tensorflow.keras.models import Sequential\n",
        "from tensorflow.keras.layers import Dense\n"
      ]
    },
    {
      "cell_type": "code",
      "source": [
        "import tensorflow as tf\n"
      ],
      "metadata": {
        "id": "dZiibhQnLIaC"
      },
      "execution_count": null,
      "outputs": []
    },
    {
      "cell_type": "code",
      "source": [
        "print(\"TensorFlow version:\", tf.__version__)"
      ],
      "metadata": {
        "id": "lsO89IXo2eZK",
        "colab": {
          "base_uri": "https://localhost:8080/"
        },
        "outputId": "03be5cc7-49fc-4a68-a91b-d07703d1c869"
      },
      "execution_count": null,
      "outputs": [
        {
          "output_type": "stream",
          "name": "stdout",
          "text": [
            "TensorFlow version: 2.12.0\n"
          ]
        }
      ]
    },
    {
      "cell_type": "code",
      "source": [
        "\n",
        "x = tf.constant([[1., 2., 3.],\n",
        "                 [4., 5., 6.]])\n",
        "\n",
        "print(x)\n",
        "print(x.shape)\n",
        "print(x.dtype)"
      ],
      "metadata": {
        "id": "y-1nCi_Y2eTG",
        "outputId": "8dbe004d-35ec-44dd-e2db-bbb674f331d9",
        "colab": {
          "base_uri": "https://localhost:8080/"
        }
      },
      "execution_count": null,
      "outputs": [
        {
          "output_type": "stream",
          "name": "stdout",
          "text": [
            "tf.Tensor(\n",
            "[[1. 2. 3.]\n",
            " [4. 5. 6.]], shape=(2, 3), dtype=float32)\n",
            "(2, 3)\n",
            "<dtype: 'float32'>\n"
          ]
        }
      ]
    },
    {
      "cell_type": "code",
      "source": [
        "5 * x"
      ],
      "metadata": {
        "id": "ZFb84DaF4-cT",
        "outputId": "6fac1e35-0169-415d-ad17-872b61accf35",
        "colab": {
          "base_uri": "https://localhost:8080/"
        }
      },
      "execution_count": null,
      "outputs": [
        {
          "output_type": "execute_result",
          "data": {
            "text/plain": [
              "<tf.Tensor: shape=(2, 3), dtype=float32, numpy=\n",
              "array([[ 5., 10., 15.],\n",
              "       [20., 25., 30.]], dtype=float32)>"
            ]
          },
          "metadata": {},
          "execution_count": 93
        }
      ]
    },
    {
      "cell_type": "code",
      "source": [
        "x @ tf.transpose(x)"
      ],
      "metadata": {
        "id": "rrJ1MFbD5QLr",
        "outputId": "058c8691-842b-4397-d109-99e8d12ee398",
        "colab": {
          "base_uri": "https://localhost:8080/"
        }
      },
      "execution_count": null,
      "outputs": [
        {
          "output_type": "execute_result",
          "data": {
            "text/plain": [
              "<tf.Tensor: shape=(2, 2), dtype=float32, numpy=\n",
              "array([[14., 32.],\n",
              "       [32., 77.]], dtype=float32)>"
            ]
          },
          "metadata": {},
          "execution_count": 19
        }
      ]
    },
    {
      "cell_type": "code",
      "source": [
        "tf.concat([x, x, x], axis=0)"
      ],
      "metadata": {
        "id": "y23swTC-56ul",
        "outputId": "4dfcc3c9-9377-400e-fd60-c1a9f53f9252",
        "colab": {
          "base_uri": "https://localhost:8080/"
        }
      },
      "execution_count": null,
      "outputs": [
        {
          "output_type": "execute_result",
          "data": {
            "text/plain": [
              "<tf.Tensor: shape=(6, 3), dtype=float32, numpy=\n",
              "array([[1., 2., 3.],\n",
              "       [4., 5., 6.],\n",
              "       [1., 2., 3.],\n",
              "       [4., 5., 6.],\n",
              "       [1., 2., 3.],\n",
              "       [4., 5., 6.]], dtype=float32)>"
            ]
          },
          "metadata": {},
          "execution_count": 20
        }
      ]
    },
    {
      "cell_type": "code",
      "source": [
        "tf.reduce_sum(x)"
      ],
      "metadata": {
        "id": "_oUGzTVD58U6",
        "outputId": "77fdde87-ea7e-44f5-8df3-f0d653107c5d",
        "colab": {
          "base_uri": "https://localhost:8080/"
        }
      },
      "execution_count": null,
      "outputs": [
        {
          "output_type": "execute_result",
          "data": {
            "text/plain": [
              "<tf.Tensor: shape=(), dtype=float32, numpy=21.0>"
            ]
          },
          "metadata": {},
          "execution_count": 94
        }
      ]
    },
    {
      "cell_type": "code",
      "source": [
        "tf.convert_to_tensor([1,2,3])"
      ],
      "metadata": {
        "id": "GCdFDS9z6CNR",
        "outputId": "52784d12-6290-4399-a336-fbbdb8af4b57",
        "colab": {
          "base_uri": "https://localhost:8080/"
        }
      },
      "execution_count": null,
      "outputs": [
        {
          "output_type": "execute_result",
          "data": {
            "text/plain": [
              "<tf.Tensor: shape=(3,), dtype=int32, numpy=array([1, 2, 3], dtype=int32)>"
            ]
          },
          "metadata": {},
          "execution_count": 22
        }
      ]
    },
    {
      "cell_type": "code",
      "source": [
        "if tf.config.list_physical_devices('GPU'):\n",
        "  print(\"TensorFlow **IS** using the GPU\")\n",
        "else:\n",
        "  print(\"TensorFlow **IS NOT** using the GPU\")"
      ],
      "metadata": {
        "id": "l0dKLHLr5Tla",
        "outputId": "dbb40f71-781d-41d5-8a25-db90c7d28363",
        "colab": {
          "base_uri": "https://localhost:8080/"
        }
      },
      "execution_count": null,
      "outputs": [
        {
          "output_type": "stream",
          "name": "stdout",
          "text": [
            "TensorFlow **IS NOT** using the GPU\n"
          ]
        }
      ]
    },
    {
      "cell_type": "code",
      "source": [
        "var = tf.Variable([0.0, 0.0, 0.0])"
      ],
      "metadata": {
        "id": "RdTnrQG19WY5"
      },
      "execution_count": null,
      "outputs": []
    },
    {
      "cell_type": "code",
      "source": [
        "var"
      ],
      "metadata": {
        "colab": {
          "base_uri": "https://localhost:8080/"
        },
        "id": "Kis6RlcyOQc_",
        "outputId": "35ded3ac-66df-4b77-c366-a2a28545854f"
      },
      "execution_count": null,
      "outputs": [
        {
          "output_type": "execute_result",
          "data": {
            "text/plain": [
              "<tf.Variable 'Variable:0' shape=(3,) dtype=float32, numpy=array([0., 0., 0.], dtype=float32)>"
            ]
          },
          "metadata": {},
          "execution_count": 98
        }
      ]
    },
    {
      "cell_type": "code",
      "source": [
        "var.assign([1, 2, 3])"
      ],
      "metadata": {
        "id": "LgFG6p4i9Xay",
        "outputId": "de9f6748-ff6b-418e-9894-83338c3166b0",
        "colab": {
          "base_uri": "https://localhost:8080/"
        }
      },
      "execution_count": null,
      "outputs": [
        {
          "output_type": "execute_result",
          "data": {
            "text/plain": [
              "<tf.Variable 'UnreadVariable' shape=(3,) dtype=float32, numpy=array([1., 2., 3.], dtype=float32)>"
            ]
          },
          "metadata": {},
          "execution_count": 99
        }
      ]
    },
    {
      "cell_type": "code",
      "source": [
        "var"
      ],
      "metadata": {
        "id": "X0BWChoG9Z8o",
        "outputId": "476f8f61-57fc-48b5-f286-46e3ff4dda1d",
        "colab": {
          "base_uri": "https://localhost:8080/"
        }
      },
      "execution_count": null,
      "outputs": [
        {
          "output_type": "execute_result",
          "data": {
            "text/plain": [
              "<tf.Variable 'Variable:0' shape=(3,) dtype=float32, numpy=array([1., 2., 3.], dtype=float32)>"
            ]
          },
          "metadata": {},
          "execution_count": 100
        }
      ]
    },
    {
      "cell_type": "code",
      "source": [
        "import tensorflow as tf\n",
        "from tensorflow import keras\n",
        "from tensorflow.keras import layers"
      ],
      "metadata": {
        "id": "AQ-synzm9eCz"
      },
      "execution_count": null,
      "outputs": []
    },
    {
      "cell_type": "code",
      "source": [
        "# Define Sequential model with 3 layers\n",
        "model = keras.Sequential(\n",
        "    [\n",
        "        layers.Dense(2, activation=\"relu\", name=\"layer1\"),\n",
        "        layers.Dense(3, activation=\"relu\", name=\"layer2\"),\n",
        "        layers.Dense(4, name=\"layer3\"),\n",
        "    ]\n",
        ")\n",
        "# Call model on a test input\n",
        "x = tf.ones((3, 3))\n",
        "y = model(x)"
      ],
      "metadata": {
        "id": "IB5w3u2W-F5a"
      },
      "execution_count": null,
      "outputs": []
    },
    {
      "cell_type": "code",
      "source": [
        "x"
      ],
      "metadata": {
        "id": "DolA5Jrw_yVg",
        "outputId": "9885556a-9b8c-439a-dad9-ae91947c041e",
        "colab": {
          "base_uri": "https://localhost:8080/"
        }
      },
      "execution_count": null,
      "outputs": [
        {
          "output_type": "execute_result",
          "data": {
            "text/plain": [
              "<tf.Tensor: shape=(3, 3), dtype=float32, numpy=\n",
              "array([[1., 1., 1.],\n",
              "       [1., 1., 1.],\n",
              "       [1., 1., 1.]], dtype=float32)>"
            ]
          },
          "metadata": {},
          "execution_count": 107
        }
      ]
    },
    {
      "cell_type": "code",
      "source": [
        "y"
      ],
      "metadata": {
        "id": "Yf8r_ZgV_0LT",
        "outputId": "e03c6865-7e27-4736-e538-2cbdd51184df",
        "colab": {
          "base_uri": "https://localhost:8080/"
        }
      },
      "execution_count": null,
      "outputs": [
        {
          "output_type": "execute_result",
          "data": {
            "text/plain": [
              "<tf.Tensor: shape=(3, 4), dtype=float32, numpy=\n",
              "array([[0., 0., 0., 0.],\n",
              "       [0., 0., 0., 0.],\n",
              "       [0., 0., 0., 0.]], dtype=float32)>"
            ]
          },
          "metadata": {},
          "execution_count": 108
        }
      ]
    },
    {
      "cell_type": "code",
      "source": [
        "# Create 3 layers\n",
        "layer1 = layers.Dense(2, activation=\"relu\", name=\"layer1\")\n",
        "layer2 = layers.Dense(3, activation=\"relu\", name=\"layer2\")\n",
        "layer3 = layers.Dense(4, name=\"layer3\")\n",
        "\n",
        "# Call layers on a test input\n",
        "x = tf.ones((3, 3))\n",
        "y = layer3(layer2(layer1(x)))"
      ],
      "metadata": {
        "id": "fnm5W3aG-N5U"
      },
      "execution_count": null,
      "outputs": []
    },
    {
      "cell_type": "code",
      "source": [
        "x"
      ],
      "metadata": {
        "colab": {
          "base_uri": "https://localhost:8080/"
        },
        "id": "IC9Ug9ZWPEMY",
        "outputId": "fd66405e-3721-4721-b2b0-90259f5828d6"
      },
      "execution_count": null,
      "outputs": [
        {
          "output_type": "execute_result",
          "data": {
            "text/plain": [
              "<tf.Tensor: shape=(3, 3), dtype=float32, numpy=\n",
              "array([[1., 1., 1.],\n",
              "       [1., 1., 1.],\n",
              "       [1., 1., 1.]], dtype=float32)>"
            ]
          },
          "metadata": {},
          "execution_count": 102
        }
      ]
    },
    {
      "cell_type": "code",
      "source": [
        "y"
      ],
      "metadata": {
        "colab": {
          "base_uri": "https://localhost:8080/"
        },
        "id": "Oeb1r5c_PFz5",
        "outputId": "44ca7584-cab0-48f1-c096-c9c77776e586"
      },
      "execution_count": null,
      "outputs": [
        {
          "output_type": "execute_result",
          "data": {
            "text/plain": [
              "<tf.Tensor: shape=(3, 4), dtype=float32, numpy=\n",
              "array([[0., 0., 0., 0.],\n",
              "       [0., 0., 0., 0.],\n",
              "       [0., 0., 0., 0.]], dtype=float32)>"
            ]
          },
          "metadata": {},
          "execution_count": 104
        }
      ]
    },
    {
      "cell_type": "code",
      "source": [
        "model.layers"
      ],
      "metadata": {
        "id": "w3VV_8nc_vEj",
        "outputId": "1750592f-f503-4800-faed-5bc9a85bef8e",
        "colab": {
          "base_uri": "https://localhost:8080/"
        }
      },
      "execution_count": null,
      "outputs": [
        {
          "output_type": "execute_result",
          "data": {
            "text/plain": [
              "[<keras.layers.core.dense.Dense at 0x7f29ea3b1490>]"
            ]
          },
          "metadata": {},
          "execution_count": 103
        }
      ]
    },
    {
      "cell_type": "code",
      "source": [
        "layer = layers.Dense(3)\n",
        "layer.weights  # Empty"
      ],
      "metadata": {
        "id": "9XuTHCqhAuLW",
        "outputId": "fd0dae75-c05a-4a23-8889-260d6053ce54",
        "colab": {
          "base_uri": "https://localhost:8080/"
        }
      },
      "execution_count": null,
      "outputs": [
        {
          "output_type": "execute_result",
          "data": {
            "text/plain": [
              "[]"
            ]
          },
          "metadata": {},
          "execution_count": 33
        }
      ]
    },
    {
      "cell_type": "code",
      "source": [
        "# Call layer on a test input\n",
        "x = tf.ones((1, 4))\n",
        "y = layer(x)\n",
        "layer.weights  # Now it has weights, of shape (4, 3) and (3,)"
      ],
      "metadata": {
        "id": "rh4I0MV9AwC_",
        "outputId": "d16582cc-62eb-4b85-8144-bf3e047470c6",
        "colab": {
          "base_uri": "https://localhost:8080/"
        }
      },
      "execution_count": null,
      "outputs": [
        {
          "output_type": "execute_result",
          "data": {
            "text/plain": [
              "[<tf.Variable 'dense/kernel:0' shape=(4, 3) dtype=float32, numpy=\n",
              " array([[-0.19817936, -0.6249985 ,  0.7547616 ],\n",
              "        [ 0.6318432 ,  0.22759569, -0.15264195],\n",
              "        [ 0.05555379,  0.23493242,  0.45267558],\n",
              "        [-0.02618682,  0.7304938 ,  0.5674261 ]], dtype=float32)>,\n",
              " <tf.Variable 'dense/bias:0' shape=(3,) dtype=float32, numpy=array([0., 0., 0.], dtype=float32)>]"
            ]
          },
          "metadata": {},
          "execution_count": 34
        }
      ]
    },
    {
      "cell_type": "code",
      "source": [
        "model.summary()"
      ],
      "metadata": {
        "id": "JFAvA35MA0w6",
        "outputId": "671c201b-b6f1-44c6-ab65-c8d40644fc3a",
        "colab": {
          "base_uri": "https://localhost:8080/"
        }
      },
      "execution_count": null,
      "outputs": [
        {
          "output_type": "stream",
          "name": "stdout",
          "text": [
            "Model: \"sequential_1\"\n",
            "_________________________________________________________________\n",
            " Layer (type)                Output Shape              Param #   \n",
            "=================================================================\n",
            " dense_1 (Dense)             (None, 2)                 10        \n",
            "                                                                 \n",
            "=================================================================\n",
            "Total params: 10\n",
            "Trainable params: 10\n",
            "Non-trainable params: 0\n",
            "_________________________________________________________________\n"
          ]
        }
      ]
    },
    {
      "cell_type": "markdown",
      "source": [
        "You can also create a Sequential model incrementally via the add() method:\n",
        "\n"
      ],
      "metadata": {
        "id": "wbEwpLh9BbAq"
      }
    },
    {
      "cell_type": "code",
      "source": [
        "model = keras.Sequential()\n",
        "model.add(keras.Input(shape=(4,)))\n",
        "model.add(layers.Dense(2, activation=\"relu\"))\n",
        "\n",
        "model.summary()"
      ],
      "metadata": {
        "id": "x3GobzAuA-9a",
        "colab": {
          "base_uri": "https://localhost:8080/"
        },
        "outputId": "be7e1cf8-cc7e-4efa-c409-8eb635c23438"
      },
      "execution_count": null,
      "outputs": [
        {
          "output_type": "stream",
          "name": "stdout",
          "text": [
            "Model: \"sequential_4\"\n",
            "_________________________________________________________________\n",
            " Layer (type)                Output Shape              Param #   \n",
            "=================================================================\n",
            " dense_8 (Dense)             (None, 2)                 10        \n",
            "                                                                 \n",
            "=================================================================\n",
            "Total params: 10\n",
            "Trainable params: 10\n",
            "Non-trainable params: 0\n",
            "_________________________________________________________________\n"
          ]
        }
      ]
    },
    {
      "cell_type": "markdown",
      "metadata": {
        "id": "o4x_aR68CZWB"
      },
      "source": [
        "# Initialize the Model"
      ]
    },
    {
      "cell_type": "code",
      "execution_count": null,
      "metadata": {
        "id": "ohMV7WgPCZWC"
      },
      "outputs": [],
      "source": [
        "regressor = Sequential()"
      ]
    },
    {
      "cell_type": "code",
      "execution_count": null,
      "metadata": {
        "id": "GpSEhVu-CZWD",
        "outputId": "c1f7ce12-12a9-4f8d-a57a-2184e71bcf71",
        "colab": {
          "base_uri": "https://localhost:8080/"
        }
      },
      "outputs": [
        {
          "output_type": "execute_result",
          "data": {
            "text/plain": [
              "(86, 6)"
            ]
          },
          "metadata": {},
          "execution_count": 38
        }
      ],
      "source": [
        "x_train.shape"
      ]
    },
    {
      "cell_type": "markdown",
      "metadata": {
        "id": "Ldupe25aCZWE"
      },
      "source": [
        "# Add Layers"
      ]
    },
    {
      "cell_type": "code",
      "execution_count": null,
      "metadata": {
        "id": "Ovbw4aBYCZWF"
      },
      "outputs": [],
      "source": [
        "regressor.add(Dense(units = 4,kernel_initializer  = 'random_uniform',activation = 'relu'))"
      ]
    },
    {
      "cell_type": "code",
      "execution_count": null,
      "metadata": {
        "id": "aTKx3NbqCZWG"
      },
      "outputs": [],
      "source": [
        "regressor.add(Dense(units = 12,kernel_initializer = 'random_uniform',activation = 'relu')) # 1st hidden layer"
      ]
    },
    {
      "cell_type": "code",
      "execution_count": null,
      "metadata": {
        "id": "U00sd3IvCZWG"
      },
      "outputs": [],
      "source": [
        "regressor.add(Dense(units = 8,kernel_initializer = 'random_uniform',activation = 'relu')) # second hiden layer"
      ]
    },
    {
      "cell_type": "code",
      "execution_count": null,
      "metadata": {
        "id": "tP2mwyRYCZWH"
      },
      "outputs": [],
      "source": [
        "regressor.add(Dense(units = 9,kernel_initializer = 'random_uniform',activation = 'relu')) # third Hidden layer"
      ]
    },
    {
      "cell_type": "markdown",
      "metadata": {
        "id": "290re7VhCZWJ"
      },
      "source": [
        "# Output Layer"
      ]
    },
    {
      "cell_type": "code",
      "execution_count": null,
      "metadata": {
        "id": "0qkYtdGcCZWJ"
      },
      "outputs": [],
      "source": [
        "regressor.add(Dense(units = 1,kernel_initializer = 'random_uniform'))"
      ]
    },
    {
      "cell_type": "markdown",
      "metadata": {
        "id": "ZDA_UKL0CZWK"
      },
      "source": [
        "# Compile The Model"
      ]
    },
    {
      "cell_type": "code",
      "execution_count": null,
      "metadata": {
        "id": "56TbwQPlCZWL"
      },
      "outputs": [],
      "source": [
        "regressor.compile(optimizer = 'adam',loss = 'mse',metrics = ['mse'])"
      ]
    },
    {
      "cell_type": "markdown",
      "metadata": {
        "id": "BDCW9vZ4CZWL"
      },
      "source": [
        "# Fit The Model"
      ]
    },
    {
      "cell_type": "code",
      "execution_count": null,
      "metadata": {
        "id": "yg_XbfaCCZWM",
        "outputId": "29aaf7a9-1bb2-41c6-a302-8c01eb648931",
        "colab": {
          "base_uri": "https://localhost:8080/"
        }
      },
      "outputs": [
        {
          "output_type": "stream",
          "name": "stdout",
          "text": [
            "Epoch 1/300\n",
            "9/9 [==============================] - 4s 11ms/step - loss: 14435131392.0000 - mse: 14435131392.0000\n",
            "Epoch 2/300\n",
            "9/9 [==============================] - 0s 6ms/step - loss: 14435086336.0000 - mse: 14435086336.0000\n",
            "Epoch 3/300\n",
            "9/9 [==============================] - 0s 5ms/step - loss: 14434930688.0000 - mse: 14434930688.0000\n",
            "Epoch 4/300\n",
            "9/9 [==============================] - 0s 5ms/step - loss: 14434425856.0000 - mse: 14434425856.0000\n",
            "Epoch 5/300\n",
            "9/9 [==============================] - 0s 5ms/step - loss: 14433049600.0000 - mse: 14433049600.0000\n",
            "Epoch 6/300\n",
            "9/9 [==============================] - 0s 5ms/step - loss: 14428782592.0000 - mse: 14428782592.0000\n",
            "Epoch 7/300\n",
            "9/9 [==============================] - 0s 7ms/step - loss: 14417227776.0000 - mse: 14417227776.0000\n",
            "Epoch 8/300\n",
            "9/9 [==============================] - 0s 5ms/step - loss: 14389609472.0000 - mse: 14389609472.0000\n",
            "Epoch 9/300\n",
            "9/9 [==============================] - 0s 9ms/step - loss: 14323750912.0000 - mse: 14323750912.0000\n",
            "Epoch 10/300\n",
            "9/9 [==============================] - 0s 11ms/step - loss: 14186459136.0000 - mse: 14186459136.0000\n",
            "Epoch 11/300\n",
            "9/9 [==============================] - 0s 13ms/step - loss: 13927520256.0000 - mse: 13927520256.0000\n",
            "Epoch 12/300\n",
            "9/9 [==============================] - 0s 11ms/step - loss: 13407523840.0000 - mse: 13407523840.0000\n",
            "Epoch 13/300\n",
            "9/9 [==============================] - 0s 9ms/step - loss: 12560625664.0000 - mse: 12560625664.0000\n",
            "Epoch 14/300\n",
            "9/9 [==============================] - 0s 8ms/step - loss: 11010745344.0000 - mse: 11010744320.0000\n",
            "Epoch 15/300\n",
            "9/9 [==============================] - 0s 6ms/step - loss: 8760213504.0000 - mse: 8760213504.0000\n",
            "Epoch 16/300\n",
            "9/9 [==============================] - 0s 8ms/step - loss: 5811696128.0000 - mse: 5811696128.0000\n",
            "Epoch 17/300\n",
            "9/9 [==============================] - 0s 9ms/step - loss: 2705399296.0000 - mse: 2705399296.0000\n",
            "Epoch 18/300\n",
            "9/9 [==============================] - 0s 6ms/step - loss: 943748416.0000 - mse: 943748416.0000\n",
            "Epoch 19/300\n",
            "9/9 [==============================] - 0s 6ms/step - loss: 958780608.0000 - mse: 958780608.0000\n",
            "Epoch 20/300\n",
            "9/9 [==============================] - 0s 7ms/step - loss: 858900608.0000 - mse: 858900608.0000\n",
            "Epoch 21/300\n",
            "9/9 [==============================] - 0s 6ms/step - loss: 747116416.0000 - mse: 747116416.0000\n",
            "Epoch 22/300\n",
            "9/9 [==============================] - 0s 12ms/step - loss: 746661632.0000 - mse: 746661632.0000\n",
            "Epoch 23/300\n",
            "9/9 [==============================] - 0s 5ms/step - loss: 729532160.0000 - mse: 729532160.0000\n",
            "Epoch 24/300\n",
            "9/9 [==============================] - 0s 8ms/step - loss: 709824704.0000 - mse: 709824704.0000\n",
            "Epoch 25/300\n",
            "9/9 [==============================] - 0s 6ms/step - loss: 698239296.0000 - mse: 698239296.0000\n",
            "Epoch 26/300\n",
            "9/9 [==============================] - 0s 5ms/step - loss: 686240896.0000 - mse: 686240896.0000\n",
            "Epoch 27/300\n",
            "9/9 [==============================] - 0s 5ms/step - loss: 671091776.0000 - mse: 671091776.0000\n",
            "Epoch 28/300\n",
            "9/9 [==============================] - 0s 8ms/step - loss: 658089920.0000 - mse: 658089920.0000\n",
            "Epoch 29/300\n",
            "9/9 [==============================] - 0s 5ms/step - loss: 645565376.0000 - mse: 645565312.0000\n",
            "Epoch 30/300\n",
            "9/9 [==============================] - 0s 6ms/step - loss: 634164992.0000 - mse: 634164992.0000\n",
            "Epoch 31/300\n",
            "9/9 [==============================] - 0s 7ms/step - loss: 622857984.0000 - mse: 622857984.0000\n",
            "Epoch 32/300\n",
            "9/9 [==============================] - 0s 5ms/step - loss: 610882560.0000 - mse: 610882432.0000\n",
            "Epoch 33/300\n",
            "9/9 [==============================] - 0s 12ms/step - loss: 599063552.0000 - mse: 599063488.0000\n",
            "Epoch 34/300\n",
            "9/9 [==============================] - 0s 10ms/step - loss: 591580736.0000 - mse: 591580736.0000\n",
            "Epoch 35/300\n",
            "9/9 [==============================] - 0s 5ms/step - loss: 574665280.0000 - mse: 574665280.0000\n",
            "Epoch 36/300\n",
            "9/9 [==============================] - 0s 8ms/step - loss: 566979264.0000 - mse: 566979264.0000\n",
            "Epoch 37/300\n",
            "9/9 [==============================] - 0s 11ms/step - loss: 557760640.0000 - mse: 557760640.0000\n",
            "Epoch 38/300\n",
            "9/9 [==============================] - 0s 7ms/step - loss: 544752064.0000 - mse: 544752064.0000\n",
            "Epoch 39/300\n",
            "9/9 [==============================] - 0s 5ms/step - loss: 536173408.0000 - mse: 536173408.0000\n",
            "Epoch 40/300\n",
            "9/9 [==============================] - 0s 6ms/step - loss: 523058336.0000 - mse: 523058336.0000\n",
            "Epoch 41/300\n",
            "9/9 [==============================] - 0s 5ms/step - loss: 518203360.0000 - mse: 518203360.0000\n",
            "Epoch 42/300\n",
            "9/9 [==============================] - 0s 5ms/step - loss: 500259008.0000 - mse: 500259008.0000\n",
            "Epoch 43/300\n",
            "9/9 [==============================] - 0s 8ms/step - loss: 490625440.0000 - mse: 490625440.0000\n",
            "Epoch 44/300\n",
            "9/9 [==============================] - 0s 5ms/step - loss: 480957216.0000 - mse: 480957216.0000\n",
            "Epoch 45/300\n",
            "9/9 [==============================] - 0s 6ms/step - loss: 470943168.0000 - mse: 470943168.0000\n",
            "Epoch 46/300\n",
            "9/9 [==============================] - 0s 4ms/step - loss: 464258304.0000 - mse: 464258304.0000\n",
            "Epoch 47/300\n",
            "9/9 [==============================] - 0s 5ms/step - loss: 450605184.0000 - mse: 450605248.0000\n",
            "Epoch 48/300\n",
            "9/9 [==============================] - 0s 4ms/step - loss: 445059392.0000 - mse: 445059392.0000\n",
            "Epoch 49/300\n",
            "9/9 [==============================] - 0s 6ms/step - loss: 436909472.0000 - mse: 436909472.0000\n",
            "Epoch 50/300\n",
            "9/9 [==============================] - 0s 8ms/step - loss: 425175136.0000 - mse: 425175136.0000\n",
            "Epoch 51/300\n",
            "9/9 [==============================] - 0s 13ms/step - loss: 419699168.0000 - mse: 419699168.0000\n",
            "Epoch 52/300\n",
            "9/9 [==============================] - 0s 10ms/step - loss: 415394368.0000 - mse: 415394368.0000\n",
            "Epoch 53/300\n",
            "9/9 [==============================] - 0s 6ms/step - loss: 402857600.0000 - mse: 402857600.0000\n",
            "Epoch 54/300\n",
            "9/9 [==============================] - 0s 5ms/step - loss: 389495808.0000 - mse: 389495808.0000\n",
            "Epoch 55/300\n",
            "9/9 [==============================] - 0s 5ms/step - loss: 388031456.0000 - mse: 388031456.0000\n",
            "Epoch 56/300\n",
            "9/9 [==============================] - 0s 7ms/step - loss: 375693120.0000 - mse: 375693120.0000\n",
            "Epoch 57/300\n",
            "9/9 [==============================] - 0s 6ms/step - loss: 368527456.0000 - mse: 368527456.0000\n",
            "Epoch 58/300\n",
            "9/9 [==============================] - 0s 10ms/step - loss: 362900096.0000 - mse: 362900096.0000\n",
            "Epoch 59/300\n",
            "9/9 [==============================] - 0s 8ms/step - loss: 354141056.0000 - mse: 354141056.0000\n",
            "Epoch 60/300\n",
            "9/9 [==============================] - 0s 10ms/step - loss: 349065632.0000 - mse: 349065632.0000\n",
            "Epoch 61/300\n",
            "9/9 [==============================] - 0s 11ms/step - loss: 342607168.0000 - mse: 342607168.0000\n",
            "Epoch 62/300\n",
            "9/9 [==============================] - 0s 7ms/step - loss: 337102624.0000 - mse: 337102624.0000\n",
            "Epoch 63/300\n",
            "9/9 [==============================] - 0s 11ms/step - loss: 327624544.0000 - mse: 327624544.0000\n",
            "Epoch 64/300\n",
            "9/9 [==============================] - 0s 4ms/step - loss: 323115776.0000 - mse: 323115776.0000\n",
            "Epoch 65/300\n",
            "9/9 [==============================] - 0s 3ms/step - loss: 318179200.0000 - mse: 318179200.0000\n",
            "Epoch 66/300\n",
            "9/9 [==============================] - 0s 3ms/step - loss: 314371872.0000 - mse: 314371872.0000\n",
            "Epoch 67/300\n",
            "9/9 [==============================] - 0s 4ms/step - loss: 305898272.0000 - mse: 305898336.0000\n",
            "Epoch 68/300\n",
            "9/9 [==============================] - 0s 3ms/step - loss: 299445280.0000 - mse: 299445280.0000\n",
            "Epoch 69/300\n",
            "9/9 [==============================] - 0s 3ms/step - loss: 291991136.0000 - mse: 291991136.0000\n",
            "Epoch 70/300\n",
            "9/9 [==============================] - 0s 3ms/step - loss: 287883872.0000 - mse: 287883872.0000\n",
            "Epoch 71/300\n",
            "9/9 [==============================] - 0s 3ms/step - loss: 282345280.0000 - mse: 282345280.0000\n",
            "Epoch 72/300\n",
            "9/9 [==============================] - 0s 3ms/step - loss: 280623264.0000 - mse: 280623264.0000\n",
            "Epoch 73/300\n",
            "9/9 [==============================] - 0s 3ms/step - loss: 273895520.0000 - mse: 273895520.0000\n",
            "Epoch 74/300\n",
            "9/9 [==============================] - 0s 3ms/step - loss: 269802240.0000 - mse: 269802240.0000\n",
            "Epoch 75/300\n",
            "9/9 [==============================] - 0s 4ms/step - loss: 266408432.0000 - mse: 266408432.0000\n",
            "Epoch 76/300\n",
            "9/9 [==============================] - 0s 3ms/step - loss: 263582816.0000 - mse: 263582816.0000\n",
            "Epoch 77/300\n",
            "9/9 [==============================] - 0s 3ms/step - loss: 259584432.0000 - mse: 259584432.0000\n",
            "Epoch 78/300\n",
            "9/9 [==============================] - 0s 3ms/step - loss: 254234192.0000 - mse: 254234192.0000\n",
            "Epoch 79/300\n",
            "9/9 [==============================] - 0s 4ms/step - loss: 252176000.0000 - mse: 252176000.0000\n",
            "Epoch 80/300\n",
            "9/9 [==============================] - 0s 4ms/step - loss: 248000512.0000 - mse: 248000512.0000\n",
            "Epoch 81/300\n",
            "9/9 [==============================] - 0s 3ms/step - loss: 243988176.0000 - mse: 243988176.0000\n",
            "Epoch 82/300\n",
            "9/9 [==============================] - 0s 3ms/step - loss: 241747776.0000 - mse: 241747776.0000\n",
            "Epoch 83/300\n",
            "9/9 [==============================] - 0s 4ms/step - loss: 240497616.0000 - mse: 240497616.0000\n",
            "Epoch 84/300\n",
            "9/9 [==============================] - 0s 4ms/step - loss: 234366448.0000 - mse: 234366448.0000\n",
            "Epoch 85/300\n",
            "9/9 [==============================] - 0s 4ms/step - loss: 235377808.0000 - mse: 235377808.0000\n",
            "Epoch 86/300\n",
            "9/9 [==============================] - 0s 3ms/step - loss: 231951504.0000 - mse: 231951504.0000\n",
            "Epoch 87/300\n",
            "9/9 [==============================] - 0s 3ms/step - loss: 229075056.0000 - mse: 229075056.0000\n",
            "Epoch 88/300\n",
            "9/9 [==============================] - 0s 4ms/step - loss: 232496656.0000 - mse: 232496656.0000\n",
            "Epoch 89/300\n",
            "9/9 [==============================] - 0s 3ms/step - loss: 227241776.0000 - mse: 227241776.0000\n",
            "Epoch 90/300\n",
            "9/9 [==============================] - 0s 3ms/step - loss: 223064896.0000 - mse: 223064896.0000\n",
            "Epoch 91/300\n",
            "9/9 [==============================] - 0s 3ms/step - loss: 224758064.0000 - mse: 224758064.0000\n",
            "Epoch 92/300\n",
            "9/9 [==============================] - 0s 3ms/step - loss: 219787264.0000 - mse: 219787264.0000\n",
            "Epoch 93/300\n",
            "9/9 [==============================] - 0s 4ms/step - loss: 218236688.0000 - mse: 218236688.0000\n",
            "Epoch 94/300\n",
            "9/9 [==============================] - 0s 6ms/step - loss: 218004224.0000 - mse: 218004224.0000\n",
            "Epoch 95/300\n",
            "9/9 [==============================] - 0s 5ms/step - loss: 216471792.0000 - mse: 216471792.0000\n",
            "Epoch 96/300\n",
            "9/9 [==============================] - 0s 4ms/step - loss: 217579680.0000 - mse: 217579680.0000\n",
            "Epoch 97/300\n",
            "9/9 [==============================] - 0s 5ms/step - loss: 213343168.0000 - mse: 213343168.0000\n",
            "Epoch 98/300\n",
            "9/9 [==============================] - 0s 5ms/step - loss: 216994144.0000 - mse: 216994144.0000\n",
            "Epoch 99/300\n",
            "9/9 [==============================] - 0s 6ms/step - loss: 221517248.0000 - mse: 221517248.0000\n",
            "Epoch 100/300\n",
            "9/9 [==============================] - 0s 5ms/step - loss: 213405056.0000 - mse: 213405056.0000\n",
            "Epoch 101/300\n",
            "9/9 [==============================] - 0s 4ms/step - loss: 212119712.0000 - mse: 212119712.0000\n",
            "Epoch 102/300\n",
            "9/9 [==============================] - 0s 5ms/step - loss: 208454592.0000 - mse: 208454592.0000\n",
            "Epoch 103/300\n",
            "9/9 [==============================] - 0s 5ms/step - loss: 209250048.0000 - mse: 209250048.0000\n",
            "Epoch 104/300\n",
            "9/9 [==============================] - 0s 5ms/step - loss: 209407120.0000 - mse: 209407120.0000\n",
            "Epoch 105/300\n",
            "9/9 [==============================] - 0s 6ms/step - loss: 207625984.0000 - mse: 207625984.0000\n",
            "Epoch 106/300\n",
            "9/9 [==============================] - 0s 5ms/step - loss: 206493712.0000 - mse: 206493712.0000\n",
            "Epoch 107/300\n",
            "9/9 [==============================] - 0s 5ms/step - loss: 207295888.0000 - mse: 207295888.0000\n",
            "Epoch 108/300\n",
            "9/9 [==============================] - 0s 5ms/step - loss: 205855120.0000 - mse: 205855120.0000\n",
            "Epoch 109/300\n",
            "9/9 [==============================] - 0s 5ms/step - loss: 211647488.0000 - mse: 211647488.0000\n",
            "Epoch 110/300\n",
            "9/9 [==============================] - 0s 4ms/step - loss: 213377840.0000 - mse: 213377840.0000\n",
            "Epoch 111/300\n",
            "9/9 [==============================] - 0s 5ms/step - loss: 208168752.0000 - mse: 208168752.0000\n",
            "Epoch 112/300\n",
            "9/9 [==============================] - 0s 5ms/step - loss: 210592720.0000 - mse: 210592720.0000\n",
            "Epoch 113/300\n",
            "9/9 [==============================] - 0s 5ms/step - loss: 205136640.0000 - mse: 205136640.0000\n",
            "Epoch 114/300\n",
            "9/9 [==============================] - 0s 5ms/step - loss: 207222992.0000 - mse: 207222992.0000\n",
            "Epoch 115/300\n",
            "9/9 [==============================] - 0s 5ms/step - loss: 203617712.0000 - mse: 203617712.0000\n",
            "Epoch 116/300\n",
            "9/9 [==============================] - 0s 5ms/step - loss: 201974160.0000 - mse: 201974160.0000\n",
            "Epoch 117/300\n",
            "9/9 [==============================] - 0s 5ms/step - loss: 204521312.0000 - mse: 204521312.0000\n",
            "Epoch 118/300\n",
            "9/9 [==============================] - 0s 5ms/step - loss: 201497456.0000 - mse: 201497456.0000\n",
            "Epoch 119/300\n",
            "9/9 [==============================] - 0s 5ms/step - loss: 202963056.0000 - mse: 202963056.0000\n",
            "Epoch 120/300\n",
            "9/9 [==============================] - 0s 4ms/step - loss: 206538416.0000 - mse: 206538416.0000\n",
            "Epoch 121/300\n",
            "9/9 [==============================] - 0s 5ms/step - loss: 202653856.0000 - mse: 202653856.0000\n",
            "Epoch 122/300\n",
            "9/9 [==============================] - 0s 6ms/step - loss: 199556128.0000 - mse: 199556128.0000\n",
            "Epoch 123/300\n",
            "9/9 [==============================] - 0s 5ms/step - loss: 200578544.0000 - mse: 200578544.0000\n",
            "Epoch 124/300\n",
            "9/9 [==============================] - 0s 5ms/step - loss: 197996096.0000 - mse: 197996096.0000\n",
            "Epoch 125/300\n",
            "9/9 [==============================] - 0s 5ms/step - loss: 200299120.0000 - mse: 200299120.0000\n",
            "Epoch 126/300\n",
            "9/9 [==============================] - 0s 5ms/step - loss: 198384896.0000 - mse: 198384896.0000\n",
            "Epoch 127/300\n",
            "9/9 [==============================] - 0s 5ms/step - loss: 198328848.0000 - mse: 198328848.0000\n",
            "Epoch 128/300\n",
            "9/9 [==============================] - 0s 6ms/step - loss: 199532896.0000 - mse: 199532896.0000\n",
            "Epoch 129/300\n",
            "9/9 [==============================] - 0s 5ms/step - loss: 197360144.0000 - mse: 197360144.0000\n",
            "Epoch 130/300\n",
            "9/9 [==============================] - 0s 6ms/step - loss: 198193952.0000 - mse: 198193936.0000\n",
            "Epoch 131/300\n",
            "9/9 [==============================] - 0s 6ms/step - loss: 199947152.0000 - mse: 199947152.0000\n",
            "Epoch 132/300\n",
            "9/9 [==============================] - 0s 5ms/step - loss: 197170928.0000 - mse: 197170928.0000\n",
            "Epoch 133/300\n",
            "9/9 [==============================] - 0s 5ms/step - loss: 200120304.0000 - mse: 200120304.0000\n",
            "Epoch 134/300\n",
            "9/9 [==============================] - 0s 5ms/step - loss: 196730560.0000 - mse: 196730560.0000\n",
            "Epoch 135/300\n",
            "9/9 [==============================] - 0s 6ms/step - loss: 201577264.0000 - mse: 201577264.0000\n",
            "Epoch 136/300\n",
            "9/9 [==============================] - 0s 6ms/step - loss: 195691664.0000 - mse: 195691664.0000\n",
            "Epoch 137/300\n",
            "9/9 [==============================] - 0s 6ms/step - loss: 197331152.0000 - mse: 197331152.0000\n",
            "Epoch 138/300\n",
            "9/9 [==============================] - 0s 5ms/step - loss: 197015392.0000 - mse: 197015392.0000\n",
            "Epoch 139/300\n",
            "9/9 [==============================] - 0s 5ms/step - loss: 196764048.0000 - mse: 196764048.0000\n",
            "Epoch 140/300\n",
            "9/9 [==============================] - 0s 5ms/step - loss: 194227600.0000 - mse: 194227600.0000\n",
            "Epoch 141/300\n",
            "9/9 [==============================] - 0s 5ms/step - loss: 195353824.0000 - mse: 195353824.0000\n",
            "Epoch 142/300\n",
            "9/9 [==============================] - 0s 5ms/step - loss: 194364576.0000 - mse: 194364576.0000\n",
            "Epoch 143/300\n",
            "9/9 [==============================] - 0s 5ms/step - loss: 197570544.0000 - mse: 197570544.0000\n",
            "Epoch 144/300\n",
            "9/9 [==============================] - 0s 4ms/step - loss: 196206592.0000 - mse: 196206592.0000\n",
            "Epoch 145/300\n",
            "9/9 [==============================] - 0s 6ms/step - loss: 195281856.0000 - mse: 195281856.0000\n",
            "Epoch 146/300\n",
            "9/9 [==============================] - 0s 5ms/step - loss: 196075952.0000 - mse: 196075952.0000\n",
            "Epoch 147/300\n",
            "9/9 [==============================] - 0s 6ms/step - loss: 192784400.0000 - mse: 192784400.0000\n",
            "Epoch 148/300\n",
            "9/9 [==============================] - 0s 6ms/step - loss: 194713104.0000 - mse: 194713104.0000\n",
            "Epoch 149/300\n",
            "9/9 [==============================] - 0s 5ms/step - loss: 195689936.0000 - mse: 195689936.0000\n",
            "Epoch 150/300\n",
            "9/9 [==============================] - 0s 4ms/step - loss: 195506736.0000 - mse: 195506736.0000\n",
            "Epoch 151/300\n",
            "9/9 [==============================] - 0s 5ms/step - loss: 195244896.0000 - mse: 195244896.0000\n",
            "Epoch 152/300\n",
            "9/9 [==============================] - 0s 6ms/step - loss: 194177136.0000 - mse: 194177136.0000\n",
            "Epoch 153/300\n",
            "9/9 [==============================] - 0s 6ms/step - loss: 192556848.0000 - mse: 192556848.0000\n",
            "Epoch 154/300\n",
            "9/9 [==============================] - 0s 6ms/step - loss: 193603008.0000 - mse: 193603008.0000\n",
            "Epoch 155/300\n",
            "9/9 [==============================] - 0s 6ms/step - loss: 194167328.0000 - mse: 194167328.0000\n",
            "Epoch 156/300\n",
            "9/9 [==============================] - 0s 5ms/step - loss: 192728240.0000 - mse: 192728240.0000\n",
            "Epoch 157/300\n",
            "9/9 [==============================] - 0s 5ms/step - loss: 199291584.0000 - mse: 199291584.0000\n",
            "Epoch 158/300\n",
            "9/9 [==============================] - 0s 6ms/step - loss: 191705920.0000 - mse: 191705920.0000\n",
            "Epoch 159/300\n",
            "9/9 [==============================] - 0s 6ms/step - loss: 194226096.0000 - mse: 194226096.0000\n",
            "Epoch 160/300\n",
            "9/9 [==============================] - 0s 5ms/step - loss: 193594560.0000 - mse: 193594560.0000\n",
            "Epoch 161/300\n",
            "9/9 [==============================] - 0s 5ms/step - loss: 192324896.0000 - mse: 192324896.0000\n",
            "Epoch 162/300\n",
            "9/9 [==============================] - 0s 5ms/step - loss: 192195920.0000 - mse: 192195920.0000\n",
            "Epoch 163/300\n",
            "9/9 [==============================] - 0s 5ms/step - loss: 192950496.0000 - mse: 192950496.0000\n",
            "Epoch 164/300\n",
            "9/9 [==============================] - 0s 5ms/step - loss: 193987568.0000 - mse: 193987568.0000\n",
            "Epoch 165/300\n",
            "9/9 [==============================] - 0s 5ms/step - loss: 194381712.0000 - mse: 194381712.0000\n",
            "Epoch 166/300\n",
            "9/9 [==============================] - 0s 8ms/step - loss: 194912544.0000 - mse: 194912560.0000\n",
            "Epoch 167/300\n",
            "9/9 [==============================] - 0s 6ms/step - loss: 190340448.0000 - mse: 190340448.0000\n",
            "Epoch 168/300\n",
            "9/9 [==============================] - 0s 5ms/step - loss: 194798528.0000 - mse: 194798528.0000\n",
            "Epoch 169/300\n",
            "9/9 [==============================] - 0s 5ms/step - loss: 192824576.0000 - mse: 192824576.0000\n",
            "Epoch 170/300\n",
            "9/9 [==============================] - 0s 5ms/step - loss: 196749600.0000 - mse: 196749600.0000\n",
            "Epoch 171/300\n",
            "9/9 [==============================] - 0s 5ms/step - loss: 193600912.0000 - mse: 193600912.0000\n",
            "Epoch 172/300\n",
            "9/9 [==============================] - 0s 5ms/step - loss: 193282656.0000 - mse: 193282656.0000\n",
            "Epoch 173/300\n",
            "9/9 [==============================] - 0s 5ms/step - loss: 201288176.0000 - mse: 201288176.0000\n",
            "Epoch 174/300\n",
            "9/9 [==============================] - 0s 5ms/step - loss: 193179712.0000 - mse: 193179712.0000\n",
            "Epoch 175/300\n",
            "9/9 [==============================] - 0s 5ms/step - loss: 194000592.0000 - mse: 194000592.0000\n",
            "Epoch 176/300\n",
            "9/9 [==============================] - 0s 5ms/step - loss: 191186832.0000 - mse: 191186832.0000\n",
            "Epoch 177/300\n",
            "9/9 [==============================] - 0s 6ms/step - loss: 191211824.0000 - mse: 191211824.0000\n",
            "Epoch 178/300\n",
            "9/9 [==============================] - 0s 5ms/step - loss: 190567360.0000 - mse: 190567360.0000\n",
            "Epoch 179/300\n",
            "9/9 [==============================] - 0s 4ms/step - loss: 191487840.0000 - mse: 191487840.0000\n",
            "Epoch 180/300\n",
            "9/9 [==============================] - 0s 4ms/step - loss: 195213296.0000 - mse: 195213296.0000\n",
            "Epoch 181/300\n",
            "9/9 [==============================] - 0s 4ms/step - loss: 195498672.0000 - mse: 195498672.0000\n",
            "Epoch 182/300\n",
            "9/9 [==============================] - 0s 5ms/step - loss: 193215792.0000 - mse: 193215792.0000\n",
            "Epoch 183/300\n",
            "9/9 [==============================] - 0s 5ms/step - loss: 191054256.0000 - mse: 191054224.0000\n",
            "Epoch 184/300\n",
            "9/9 [==============================] - 0s 4ms/step - loss: 190474624.0000 - mse: 190474624.0000\n",
            "Epoch 185/300\n",
            "9/9 [==============================] - 0s 5ms/step - loss: 190246304.0000 - mse: 190246304.0000\n",
            "Epoch 186/300\n",
            "9/9 [==============================] - 0s 5ms/step - loss: 192163632.0000 - mse: 192163632.0000\n",
            "Epoch 187/300\n",
            "9/9 [==============================] - 0s 6ms/step - loss: 190337488.0000 - mse: 190337488.0000\n",
            "Epoch 188/300\n",
            "9/9 [==============================] - 0s 6ms/step - loss: 189568128.0000 - mse: 189568144.0000\n",
            "Epoch 189/300\n",
            "9/9 [==============================] - 0s 4ms/step - loss: 189676832.0000 - mse: 189676832.0000\n",
            "Epoch 190/300\n",
            "9/9 [==============================] - 0s 4ms/step - loss: 190914864.0000 - mse: 190914864.0000\n",
            "Epoch 191/300\n",
            "9/9 [==============================] - 0s 6ms/step - loss: 190563728.0000 - mse: 190563728.0000\n",
            "Epoch 192/300\n",
            "9/9 [==============================] - 0s 5ms/step - loss: 189939600.0000 - mse: 189939600.0000\n",
            "Epoch 193/300\n",
            "9/9 [==============================] - 0s 5ms/step - loss: 190452208.0000 - mse: 190452208.0000\n",
            "Epoch 194/300\n",
            "9/9 [==============================] - 0s 6ms/step - loss: 190573184.0000 - mse: 190573184.0000\n",
            "Epoch 195/300\n",
            "9/9 [==============================] - 0s 5ms/step - loss: 191048208.0000 - mse: 191048208.0000\n",
            "Epoch 196/300\n",
            "9/9 [==============================] - 0s 7ms/step - loss: 188760128.0000 - mse: 188760128.0000\n",
            "Epoch 197/300\n",
            "9/9 [==============================] - 0s 6ms/step - loss: 191859840.0000 - mse: 191859840.0000\n",
            "Epoch 198/300\n",
            "9/9 [==============================] - 0s 5ms/step - loss: 194674672.0000 - mse: 194674672.0000\n",
            "Epoch 199/300\n",
            "9/9 [==============================] - 0s 6ms/step - loss: 187967712.0000 - mse: 187967712.0000\n",
            "Epoch 200/300\n",
            "9/9 [==============================] - 0s 5ms/step - loss: 191681568.0000 - mse: 191681568.0000\n",
            "Epoch 201/300\n",
            "9/9 [==============================] - 0s 6ms/step - loss: 198093840.0000 - mse: 198093840.0000\n",
            "Epoch 202/300\n",
            "9/9 [==============================] - 0s 5ms/step - loss: 197195584.0000 - mse: 197195584.0000\n",
            "Epoch 203/300\n",
            "9/9 [==============================] - 0s 5ms/step - loss: 189455600.0000 - mse: 189455600.0000\n",
            "Epoch 204/300\n",
            "9/9 [==============================] - 0s 5ms/step - loss: 192002864.0000 - mse: 192002864.0000\n",
            "Epoch 205/300\n",
            "9/9 [==============================] - 0s 6ms/step - loss: 188849360.0000 - mse: 188849360.0000\n",
            "Epoch 206/300\n",
            "9/9 [==============================] - 0s 6ms/step - loss: 190965792.0000 - mse: 190965776.0000\n",
            "Epoch 207/300\n",
            "9/9 [==============================] - 0s 6ms/step - loss: 188897840.0000 - mse: 188897808.0000\n",
            "Epoch 208/300\n",
            "9/9 [==============================] - 0s 4ms/step - loss: 189560944.0000 - mse: 189560944.0000\n",
            "Epoch 209/300\n",
            "9/9 [==============================] - 0s 4ms/step - loss: 189892672.0000 - mse: 189892672.0000\n",
            "Epoch 210/300\n",
            "9/9 [==============================] - 0s 3ms/step - loss: 192838544.0000 - mse: 192838544.0000\n",
            "Epoch 211/300\n",
            "9/9 [==============================] - 0s 3ms/step - loss: 190659040.0000 - mse: 190659040.0000\n",
            "Epoch 212/300\n",
            "9/9 [==============================] - 0s 4ms/step - loss: 188456704.0000 - mse: 188456704.0000\n",
            "Epoch 213/300\n",
            "9/9 [==============================] - 0s 3ms/step - loss: 190898592.0000 - mse: 190898592.0000\n",
            "Epoch 214/300\n",
            "9/9 [==============================] - 0s 4ms/step - loss: 189209840.0000 - mse: 189209840.0000\n",
            "Epoch 215/300\n",
            "9/9 [==============================] - 0s 5ms/step - loss: 188855104.0000 - mse: 188855104.0000\n",
            "Epoch 216/300\n",
            "9/9 [==============================] - 0s 3ms/step - loss: 189835808.0000 - mse: 189835808.0000\n",
            "Epoch 217/300\n",
            "9/9 [==============================] - 0s 4ms/step - loss: 189993264.0000 - mse: 189993264.0000\n",
            "Epoch 218/300\n",
            "9/9 [==============================] - 0s 4ms/step - loss: 192320352.0000 - mse: 192320352.0000\n",
            "Epoch 219/300\n",
            "9/9 [==============================] - 0s 3ms/step - loss: 195590448.0000 - mse: 195590448.0000\n",
            "Epoch 220/300\n",
            "9/9 [==============================] - 0s 3ms/step - loss: 187199328.0000 - mse: 187199328.0000\n",
            "Epoch 221/300\n",
            "9/9 [==============================] - 0s 4ms/step - loss: 189464176.0000 - mse: 189464176.0000\n",
            "Epoch 222/300\n",
            "9/9 [==============================] - 0s 4ms/step - loss: 189481552.0000 - mse: 189481552.0000\n",
            "Epoch 223/300\n",
            "9/9 [==============================] - 0s 4ms/step - loss: 189836560.0000 - mse: 189836560.0000\n",
            "Epoch 224/300\n",
            "9/9 [==============================] - 0s 5ms/step - loss: 191156064.0000 - mse: 191156064.0000\n",
            "Epoch 225/300\n",
            "9/9 [==============================] - 0s 3ms/step - loss: 189048016.0000 - mse: 189048016.0000\n",
            "Epoch 226/300\n",
            "9/9 [==============================] - 0s 4ms/step - loss: 188609008.0000 - mse: 188609008.0000\n",
            "Epoch 227/300\n",
            "9/9 [==============================] - 0s 4ms/step - loss: 191685840.0000 - mse: 191685840.0000\n",
            "Epoch 228/300\n",
            "9/9 [==============================] - 0s 4ms/step - loss: 189913088.0000 - mse: 189913088.0000\n",
            "Epoch 229/300\n",
            "9/9 [==============================] - 0s 5ms/step - loss: 187802416.0000 - mse: 187802432.0000\n",
            "Epoch 230/300\n",
            "9/9 [==============================] - 0s 4ms/step - loss: 193622736.0000 - mse: 193622736.0000\n",
            "Epoch 231/300\n",
            "9/9 [==============================] - 0s 4ms/step - loss: 188969872.0000 - mse: 188969872.0000\n",
            "Epoch 232/300\n",
            "9/9 [==============================] - 0s 3ms/step - loss: 190011232.0000 - mse: 190011232.0000\n",
            "Epoch 233/300\n",
            "9/9 [==============================] - 0s 3ms/step - loss: 190900528.0000 - mse: 190900528.0000\n",
            "Epoch 234/300\n",
            "9/9 [==============================] - 0s 3ms/step - loss: 192827392.0000 - mse: 192827392.0000\n",
            "Epoch 235/300\n",
            "9/9 [==============================] - 0s 4ms/step - loss: 188773872.0000 - mse: 188773872.0000\n",
            "Epoch 236/300\n",
            "9/9 [==============================] - 0s 4ms/step - loss: 192466272.0000 - mse: 192466272.0000\n",
            "Epoch 237/300\n",
            "9/9 [==============================] - 0s 4ms/step - loss: 194633488.0000 - mse: 194633488.0000\n",
            "Epoch 238/300\n",
            "9/9 [==============================] - 0s 4ms/step - loss: 191734528.0000 - mse: 191734528.0000\n",
            "Epoch 239/300\n",
            "9/9 [==============================] - 0s 3ms/step - loss: 187917968.0000 - mse: 187917968.0000\n",
            "Epoch 240/300\n",
            "9/9 [==============================] - 0s 4ms/step - loss: 188571952.0000 - mse: 188571952.0000\n",
            "Epoch 241/300\n",
            "9/9 [==============================] - 0s 3ms/step - loss: 192619616.0000 - mse: 192619616.0000\n",
            "Epoch 242/300\n",
            "9/9 [==============================] - 0s 4ms/step - loss: 189273264.0000 - mse: 189273264.0000\n",
            "Epoch 243/300\n",
            "9/9 [==============================] - 0s 4ms/step - loss: 195076400.0000 - mse: 195076400.0000\n",
            "Epoch 244/300\n",
            "9/9 [==============================] - 0s 3ms/step - loss: 189143792.0000 - mse: 189143792.0000\n",
            "Epoch 245/300\n",
            "9/9 [==============================] - 0s 4ms/step - loss: 203403712.0000 - mse: 203403712.0000\n",
            "Epoch 246/300\n",
            "9/9 [==============================] - 0s 3ms/step - loss: 194221552.0000 - mse: 194221552.0000\n",
            "Epoch 247/300\n",
            "9/9 [==============================] - 0s 4ms/step - loss: 189960416.0000 - mse: 189960416.0000\n",
            "Epoch 248/300\n",
            "9/9 [==============================] - 0s 3ms/step - loss: 197677440.0000 - mse: 197677440.0000\n",
            "Epoch 249/300\n",
            "9/9 [==============================] - 0s 5ms/step - loss: 190795840.0000 - mse: 190795840.0000\n",
            "Epoch 250/300\n",
            "9/9 [==============================] - 0s 4ms/step - loss: 188390656.0000 - mse: 188390640.0000\n",
            "Epoch 251/300\n",
            "9/9 [==============================] - 0s 4ms/step - loss: 190883232.0000 - mse: 190883232.0000\n",
            "Epoch 252/300\n",
            "9/9 [==============================] - 0s 5ms/step - loss: 191116272.0000 - mse: 191116272.0000\n",
            "Epoch 253/300\n",
            "9/9 [==============================] - 0s 4ms/step - loss: 198452256.0000 - mse: 198452256.0000\n",
            "Epoch 254/300\n",
            "9/9 [==============================] - 0s 4ms/step - loss: 184152992.0000 - mse: 184152992.0000\n",
            "Epoch 255/300\n",
            "9/9 [==============================] - 0s 3ms/step - loss: 197022544.0000 - mse: 197022544.0000\n",
            "Epoch 256/300\n",
            "9/9 [==============================] - 0s 4ms/step - loss: 196312000.0000 - mse: 196312000.0000\n",
            "Epoch 257/300\n",
            "9/9 [==============================] - 0s 3ms/step - loss: 206830016.0000 - mse: 206830016.0000\n",
            "Epoch 258/300\n",
            "9/9 [==============================] - 0s 4ms/step - loss: 191295856.0000 - mse: 191295856.0000\n",
            "Epoch 259/300\n",
            "9/9 [==============================] - 0s 3ms/step - loss: 191762384.0000 - mse: 191762384.0000\n",
            "Epoch 260/300\n",
            "9/9 [==============================] - 0s 4ms/step - loss: 187506304.0000 - mse: 187506288.0000\n",
            "Epoch 261/300\n",
            "9/9 [==============================] - 0s 4ms/step - loss: 189661936.0000 - mse: 189661936.0000\n",
            "Epoch 262/300\n",
            "9/9 [==============================] - 0s 4ms/step - loss: 187668736.0000 - mse: 187668736.0000\n",
            "Epoch 263/300\n",
            "9/9 [==============================] - 0s 4ms/step - loss: 188684272.0000 - mse: 188684272.0000\n",
            "Epoch 264/300\n",
            "9/9 [==============================] - 0s 4ms/step - loss: 188487856.0000 - mse: 188487856.0000\n",
            "Epoch 265/300\n",
            "9/9 [==============================] - 0s 4ms/step - loss: 188523456.0000 - mse: 188523456.0000\n",
            "Epoch 266/300\n",
            "9/9 [==============================] - 0s 5ms/step - loss: 188413856.0000 - mse: 188413856.0000\n",
            "Epoch 267/300\n",
            "9/9 [==============================] - 0s 5ms/step - loss: 189780720.0000 - mse: 189780720.0000\n",
            "Epoch 268/300\n",
            "9/9 [==============================] - 0s 5ms/step - loss: 189406096.0000 - mse: 189406096.0000\n",
            "Epoch 269/300\n",
            "9/9 [==============================] - 0s 4ms/step - loss: 190541472.0000 - mse: 190541472.0000\n",
            "Epoch 270/300\n",
            "9/9 [==============================] - 0s 4ms/step - loss: 188811376.0000 - mse: 188811376.0000\n",
            "Epoch 271/300\n",
            "9/9 [==============================] - 0s 4ms/step - loss: 193298944.0000 - mse: 193298944.0000\n",
            "Epoch 272/300\n",
            "9/9 [==============================] - 0s 4ms/step - loss: 197659184.0000 - mse: 197659184.0000\n",
            "Epoch 273/300\n",
            "9/9 [==============================] - 0s 3ms/step - loss: 195219936.0000 - mse: 195219936.0000\n",
            "Epoch 274/300\n",
            "9/9 [==============================] - 0s 5ms/step - loss: 193078480.0000 - mse: 193078480.0000\n",
            "Epoch 275/300\n",
            "9/9 [==============================] - 0s 4ms/step - loss: 190136208.0000 - mse: 190136208.0000\n",
            "Epoch 276/300\n",
            "9/9 [==============================] - 0s 4ms/step - loss: 191734896.0000 - mse: 191734896.0000\n",
            "Epoch 277/300\n",
            "9/9 [==============================] - 0s 4ms/step - loss: 190860704.0000 - mse: 190860704.0000\n",
            "Epoch 278/300\n",
            "9/9 [==============================] - 0s 4ms/step - loss: 186799360.0000 - mse: 186799360.0000\n",
            "Epoch 279/300\n",
            "9/9 [==============================] - 0s 3ms/step - loss: 191572416.0000 - mse: 191572416.0000\n",
            "Epoch 280/300\n",
            "9/9 [==============================] - 0s 4ms/step - loss: 189367184.0000 - mse: 189367184.0000\n",
            "Epoch 281/300\n",
            "9/9 [==============================] - 0s 4ms/step - loss: 188181264.0000 - mse: 188181264.0000\n",
            "Epoch 282/300\n",
            "9/9 [==============================] - 0s 4ms/step - loss: 191937184.0000 - mse: 191937184.0000\n",
            "Epoch 283/300\n",
            "9/9 [==============================] - 0s 4ms/step - loss: 189984816.0000 - mse: 189984816.0000\n",
            "Epoch 284/300\n",
            "9/9 [==============================] - 0s 4ms/step - loss: 187409344.0000 - mse: 187409344.0000\n",
            "Epoch 285/300\n",
            "9/9 [==============================] - 0s 3ms/step - loss: 192534592.0000 - mse: 192534592.0000\n",
            "Epoch 286/300\n",
            "9/9 [==============================] - 0s 4ms/step - loss: 199342480.0000 - mse: 199342480.0000\n",
            "Epoch 287/300\n",
            "9/9 [==============================] - 0s 4ms/step - loss: 201922128.0000 - mse: 201922128.0000\n",
            "Epoch 288/300\n",
            "9/9 [==============================] - 0s 5ms/step - loss: 186997136.0000 - mse: 186997136.0000\n",
            "Epoch 289/300\n",
            "9/9 [==============================] - 0s 4ms/step - loss: 190779408.0000 - mse: 190779408.0000\n",
            "Epoch 290/300\n",
            "9/9 [==============================] - 0s 5ms/step - loss: 188949072.0000 - mse: 188949088.0000\n",
            "Epoch 291/300\n",
            "9/9 [==============================] - 0s 4ms/step - loss: 189418112.0000 - mse: 189418112.0000\n",
            "Epoch 292/300\n",
            "9/9 [==============================] - 0s 4ms/step - loss: 189253664.0000 - mse: 189253664.0000\n",
            "Epoch 293/300\n",
            "9/9 [==============================] - 0s 4ms/step - loss: 188245632.0000 - mse: 188245632.0000\n",
            "Epoch 294/300\n",
            "9/9 [==============================] - 0s 5ms/step - loss: 192191328.0000 - mse: 192191328.0000\n",
            "Epoch 295/300\n",
            "9/9 [==============================] - 0s 3ms/step - loss: 187598160.0000 - mse: 187598160.0000\n",
            "Epoch 296/300\n",
            "9/9 [==============================] - 0s 3ms/step - loss: 188733840.0000 - mse: 188733840.0000\n",
            "Epoch 297/300\n",
            "9/9 [==============================] - 0s 5ms/step - loss: 187530080.0000 - mse: 187530080.0000\n",
            "Epoch 298/300\n",
            "9/9 [==============================] - 0s 4ms/step - loss: 190440112.0000 - mse: 190440112.0000\n",
            "Epoch 299/300\n",
            "9/9 [==============================] - 0s 3ms/step - loss: 189778736.0000 - mse: 189778736.0000\n",
            "Epoch 300/300\n",
            "9/9 [==============================] - 0s 4ms/step - loss: 191050688.0000 - mse: 191050688.0000\n"
          ]
        },
        {
          "output_type": "execute_result",
          "data": {
            "text/plain": [
              "<keras.callbacks.History at 0x7f29e9910e50>"
            ]
          },
          "metadata": {},
          "execution_count": 59
        }
      ],
      "source": [
        "regressor.fit(x_train,y_train , batch_size = 10,epochs = 300)"
      ]
    },
    {
      "cell_type": "markdown",
      "metadata": {
        "id": "1B4KscwuCZWN"
      },
      "source": [
        "# Test The Model"
      ]
    },
    {
      "cell_type": "code",
      "execution_count": null,
      "metadata": {
        "id": "atpQxG3DCZWO",
        "colab": {
          "base_uri": "https://localhost:8080/"
        },
        "outputId": "3762d358-be2f-49b2-e07c-949e3c1cf449"
      },
      "outputs": [
        {
          "output_type": "stream",
          "name": "stdout",
          "text": [
            "1/1 [==============================] - 0s 166ms/step\n"
          ]
        }
      ],
      "source": [
        "y_pred = regressor.predict(x_test)"
      ]
    },
    {
      "cell_type": "code",
      "execution_count": null,
      "metadata": {
        "id": "chQnhz4OCZWO",
        "outputId": "5c79a739-689a-4c7f-bc86-cccc6d3329fb",
        "colab": {
          "base_uri": "https://localhost:8080/"
        }
      },
      "outputs": [
        {
          "output_type": "execute_result",
          "data": {
            "text/plain": [
              "array([[ 43836.062],\n",
              "       [127282.92 ],\n",
              "       [ 80776.45 ],\n",
              "       [175703.73 ],\n",
              "       [ 98388.35 ],\n",
              "       [122098.055],\n",
              "       [127828.68 ],\n",
              "       [167026.14 ],\n",
              "       [118171.164],\n",
              "       [ 46988.95 ],\n",
              "       [105503.74 ],\n",
              "       [119532.46 ],\n",
              "       [ 43836.062],\n",
              "       [132522.11 ],\n",
              "       [ 65432.305],\n",
              "       [131140.   ],\n",
              "       [131140.   ],\n",
              "       [103906.82 ],\n",
              "       [ 67632.375],\n",
              "       [142878.06 ],\n",
              "       [157382.06 ],\n",
              "       [160362.   ]], dtype=float32)"
            ]
          },
          "metadata": {},
          "execution_count": 61
        }
      ],
      "source": [
        "y_pred"
      ]
    },
    {
      "cell_type": "code",
      "execution_count": null,
      "metadata": {
        "id": "euNRXXlHCZWP",
        "outputId": "9e869573-bf67-45d7-ea83-40d613ff18bb",
        "colab": {
          "base_uri": "https://localhost:8080/"
        }
      },
      "outputs": [
        {
          "output_type": "execute_result",
          "data": {
            "text/plain": [
              "array([[ 64926.08],\n",
              "       [146121.95],\n",
              "       [ 90708.19],\n",
              "       [191050.39],\n",
              "       [108552.04],\n",
              "       [144259.4 ],\n",
              "       [124266.9 ],\n",
              "       [155752.6 ],\n",
              "       [126992.93],\n",
              "       [ 42559.73],\n",
              "       [101004.64],\n",
              "       [110352.25],\n",
              "       [ 64926.08],\n",
              "       [111313.02],\n",
              "       [ 89949.14],\n",
              "       [134307.35],\n",
              "       [134307.35],\n",
              "       [ 96712.8 ],\n",
              "       [ 49490.75],\n",
              "       [129917.04],\n",
              "       [132602.65],\n",
              "       [152211.77]])"
            ]
          },
          "metadata": {},
          "execution_count": 62
        }
      ],
      "source": [
        "y_test"
      ]
    },
    {
      "cell_type": "markdown",
      "metadata": {
        "id": "chiVguKqCZWP"
      },
      "source": [
        "# Calculate R2_Score"
      ]
    },
    {
      "cell_type": "code",
      "execution_count": null,
      "metadata": {
        "id": "Es37hpCiCZWQ"
      },
      "outputs": [],
      "source": [
        "from sklearn.metrics import r2_score\n",
        "accuracy = r2_score(y_test,y_pred)"
      ]
    },
    {
      "cell_type": "code",
      "execution_count": null,
      "metadata": {
        "id": "bIFi3ZasCZWR",
        "outputId": "fd57e3ca-4f6f-40a2-b45d-a46dcc4062ed",
        "colab": {
          "base_uri": "https://localhost:8080/"
        }
      },
      "outputs": [
        {
          "output_type": "execute_result",
          "data": {
            "text/plain": [
              "0.8310800083370152"
            ]
          },
          "metadata": {},
          "execution_count": 64
        }
      ],
      "source": [
        "accuracy"
      ]
    },
    {
      "cell_type": "markdown",
      "metadata": {
        "id": "CY_lWRlSCZWR"
      },
      "source": [
        "model.save('regressor.h5')"
      ]
    },
    {
      "cell_type": "markdown",
      "metadata": {
        "id": "Fo53n1FQCZWS"
      },
      "source": [
        "# Save the Model"
      ]
    },
    {
      "cell_type": "code",
      "execution_count": null,
      "metadata": {
        "id": "UcMv-1X-CZWS"
      },
      "outputs": [],
      "source": [
        "regressor.save('regressor.h5')\n",
        "\n",
        "#reg  = model.load(\"/regressor.h5\")"
      ]
    },
    {
      "cell_type": "code",
      "execution_count": null,
      "metadata": {
        "id": "vLz4UDE5CZWT",
        "outputId": "e7e23805-e07d-4cdd-fd90-3537e408a759",
        "colab": {
          "base_uri": "https://localhost:8080/"
        }
      },
      "outputs": [
        {
          "output_type": "execute_result",
          "data": {
            "text/plain": [
              "(86, 6)"
            ]
          },
          "metadata": {},
          "execution_count": 66
        }
      ],
      "source": [
        "x_train.shape"
      ]
    },
    {
      "cell_type": "code",
      "execution_count": null,
      "metadata": {
        "id": "F7jYe6AaCZWU",
        "outputId": "0ef27585-7d26-4d72-e4d8-158b777f4b18",
        "colab": {
          "base_uri": "https://localhost:8080/"
        }
      },
      "outputs": [
        {
          "output_type": "stream",
          "name": "stdout",
          "text": [
            "1/1 [==============================] - 0s 152ms/step\n"
          ]
        },
        {
          "output_type": "execute_result",
          "data": {
            "text/plain": [
              "array([[60370.64]], dtype=float32)"
            ]
          },
          "metadata": {},
          "execution_count": 67
        }
      ],
      "source": [
        "regressor.predict(np.array([[0,1,0,50000,60000,70000]]))"
      ]
    },
    {
      "cell_type": "code",
      "execution_count": null,
      "metadata": {
        "id": "6hxuOFu6CZWU"
      },
      "outputs": [],
      "source": []
    },
    {
      "cell_type": "code",
      "execution_count": null,
      "metadata": {
        "id": "OsfZa1egCZWU"
      },
      "outputs": [],
      "source": []
    }
  ],
  "metadata": {
    "kernelspec": {
      "display_name": "Python 3",
      "language": "python",
      "name": "python3"
    },
    "language_info": {
      "codemirror_mode": {
        "name": "ipython",
        "version": 3
      },
      "file_extension": ".py",
      "mimetype": "text/x-python",
      "name": "python",
      "nbconvert_exporter": "python",
      "pygments_lexer": "ipython3",
      "version": "3.8.5"
    },
    "colab": {
      "provenance": []
    }
  },
  "nbformat": 4,
  "nbformat_minor": 0
}